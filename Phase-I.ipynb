{
 "cells": [
  {
   "cell_type": "code",
   "execution_count": 1,
   "id": "7501e8d6-cffb-4224-9640-3f871524ea5a",
   "metadata": {},
   "outputs": [],
   "source": [
    "import pandas as pd"
   ]
  },
  {
   "cell_type": "code",
   "execution_count": 7,
   "id": "aad3fa9d-f8e9-4ee1-833b-a540a0635790",
   "metadata": {},
   "outputs": [],
   "source": [
    "data = pd.read_csv(\"cust_seg.csv\", low_memory=False)"
   ]
  },
  {
   "cell_type": "code",
   "execution_count": 9,
   "id": "a9cdf026-35e2-4a40-a5b3-bb9787e74fbe",
   "metadata": {},
   "outputs": [
    {
     "data": {
      "text/html": [
       "<div>\n",
       "<style scoped>\n",
       "    .dataframe tbody tr th:only-of-type {\n",
       "        vertical-align: middle;\n",
       "    }\n",
       "\n",
       "    .dataframe tbody tr th {\n",
       "        vertical-align: top;\n",
       "    }\n",
       "\n",
       "    .dataframe thead th {\n",
       "        text-align: right;\n",
       "    }\n",
       "</style>\n",
       "<table border=\"1\" class=\"dataframe\">\n",
       "  <thead>\n",
       "    <tr style=\"text-align: right;\">\n",
       "      <th></th>\n",
       "      <th>Unnamed: 0</th>\n",
       "      <th>fecha_dato</th>\n",
       "      <th>ncodpers</th>\n",
       "      <th>ind_empleado</th>\n",
       "      <th>pais_residencia</th>\n",
       "      <th>sexo</th>\n",
       "      <th>age</th>\n",
       "      <th>fecha_alta</th>\n",
       "      <th>ind_nuevo</th>\n",
       "      <th>antiguedad</th>\n",
       "      <th>...</th>\n",
       "      <th>ind_hip_fin_ult1</th>\n",
       "      <th>ind_plan_fin_ult1</th>\n",
       "      <th>ind_pres_fin_ult1</th>\n",
       "      <th>ind_reca_fin_ult1</th>\n",
       "      <th>ind_tjcr_fin_ult1</th>\n",
       "      <th>ind_valo_fin_ult1</th>\n",
       "      <th>ind_viv_fin_ult1</th>\n",
       "      <th>ind_nomina_ult1</th>\n",
       "      <th>ind_nom_pens_ult1</th>\n",
       "      <th>ind_recibo_ult1</th>\n",
       "    </tr>\n",
       "  </thead>\n",
       "  <tbody>\n",
       "    <tr>\n",
       "      <th>0</th>\n",
       "      <td>0</td>\n",
       "      <td>2015-01-28</td>\n",
       "      <td>1375586</td>\n",
       "      <td>N</td>\n",
       "      <td>ES</td>\n",
       "      <td>H</td>\n",
       "      <td>35</td>\n",
       "      <td>2015-01-12</td>\n",
       "      <td>0.0</td>\n",
       "      <td>6</td>\n",
       "      <td>...</td>\n",
       "      <td>0</td>\n",
       "      <td>0</td>\n",
       "      <td>0</td>\n",
       "      <td>0</td>\n",
       "      <td>0</td>\n",
       "      <td>0</td>\n",
       "      <td>0</td>\n",
       "      <td>0.0</td>\n",
       "      <td>0.0</td>\n",
       "      <td>0</td>\n",
       "    </tr>\n",
       "    <tr>\n",
       "      <th>1</th>\n",
       "      <td>1</td>\n",
       "      <td>2015-01-28</td>\n",
       "      <td>1050611</td>\n",
       "      <td>N</td>\n",
       "      <td>ES</td>\n",
       "      <td>V</td>\n",
       "      <td>23</td>\n",
       "      <td>2012-08-10</td>\n",
       "      <td>0.0</td>\n",
       "      <td>35</td>\n",
       "      <td>...</td>\n",
       "      <td>0</td>\n",
       "      <td>0</td>\n",
       "      <td>0</td>\n",
       "      <td>0</td>\n",
       "      <td>0</td>\n",
       "      <td>0</td>\n",
       "      <td>0</td>\n",
       "      <td>0.0</td>\n",
       "      <td>0.0</td>\n",
       "      <td>0</td>\n",
       "    </tr>\n",
       "    <tr>\n",
       "      <th>2</th>\n",
       "      <td>2</td>\n",
       "      <td>2015-01-28</td>\n",
       "      <td>1050612</td>\n",
       "      <td>N</td>\n",
       "      <td>ES</td>\n",
       "      <td>V</td>\n",
       "      <td>23</td>\n",
       "      <td>2012-08-10</td>\n",
       "      <td>0.0</td>\n",
       "      <td>35</td>\n",
       "      <td>...</td>\n",
       "      <td>0</td>\n",
       "      <td>0</td>\n",
       "      <td>0</td>\n",
       "      <td>0</td>\n",
       "      <td>0</td>\n",
       "      <td>0</td>\n",
       "      <td>0</td>\n",
       "      <td>0.0</td>\n",
       "      <td>0.0</td>\n",
       "      <td>0</td>\n",
       "    </tr>\n",
       "    <tr>\n",
       "      <th>3</th>\n",
       "      <td>3</td>\n",
       "      <td>2015-01-28</td>\n",
       "      <td>1050613</td>\n",
       "      <td>N</td>\n",
       "      <td>ES</td>\n",
       "      <td>H</td>\n",
       "      <td>22</td>\n",
       "      <td>2012-08-10</td>\n",
       "      <td>0.0</td>\n",
       "      <td>35</td>\n",
       "      <td>...</td>\n",
       "      <td>0</td>\n",
       "      <td>0</td>\n",
       "      <td>0</td>\n",
       "      <td>0</td>\n",
       "      <td>0</td>\n",
       "      <td>0</td>\n",
       "      <td>0</td>\n",
       "      <td>0.0</td>\n",
       "      <td>0.0</td>\n",
       "      <td>0</td>\n",
       "    </tr>\n",
       "    <tr>\n",
       "      <th>4</th>\n",
       "      <td>4</td>\n",
       "      <td>2015-01-28</td>\n",
       "      <td>1050614</td>\n",
       "      <td>N</td>\n",
       "      <td>ES</td>\n",
       "      <td>V</td>\n",
       "      <td>23</td>\n",
       "      <td>2012-08-10</td>\n",
       "      <td>0.0</td>\n",
       "      <td>35</td>\n",
       "      <td>...</td>\n",
       "      <td>0</td>\n",
       "      <td>0</td>\n",
       "      <td>0</td>\n",
       "      <td>0</td>\n",
       "      <td>0</td>\n",
       "      <td>0</td>\n",
       "      <td>0</td>\n",
       "      <td>0.0</td>\n",
       "      <td>0.0</td>\n",
       "      <td>0</td>\n",
       "    </tr>\n",
       "    <tr>\n",
       "      <th>...</th>\n",
       "      <td>...</td>\n",
       "      <td>...</td>\n",
       "      <td>...</td>\n",
       "      <td>...</td>\n",
       "      <td>...</td>\n",
       "      <td>...</td>\n",
       "      <td>...</td>\n",
       "      <td>...</td>\n",
       "      <td>...</td>\n",
       "      <td>...</td>\n",
       "      <td>...</td>\n",
       "      <td>...</td>\n",
       "      <td>...</td>\n",
       "      <td>...</td>\n",
       "      <td>...</td>\n",
       "      <td>...</td>\n",
       "      <td>...</td>\n",
       "      <td>...</td>\n",
       "      <td>...</td>\n",
       "      <td>...</td>\n",
       "      <td>...</td>\n",
       "    </tr>\n",
       "    <tr>\n",
       "      <th>999995</th>\n",
       "      <td>999995</td>\n",
       "      <td>2015-02-28</td>\n",
       "      <td>1183296</td>\n",
       "      <td>N</td>\n",
       "      <td>ES</td>\n",
       "      <td>H</td>\n",
       "      <td>27</td>\n",
       "      <td>2013-09-25</td>\n",
       "      <td>0.0</td>\n",
       "      <td>22</td>\n",
       "      <td>...</td>\n",
       "      <td>0</td>\n",
       "      <td>0</td>\n",
       "      <td>0</td>\n",
       "      <td>0</td>\n",
       "      <td>0</td>\n",
       "      <td>0</td>\n",
       "      <td>0</td>\n",
       "      <td>0.0</td>\n",
       "      <td>0.0</td>\n",
       "      <td>1</td>\n",
       "    </tr>\n",
       "    <tr>\n",
       "      <th>999996</th>\n",
       "      <td>999996</td>\n",
       "      <td>2015-02-28</td>\n",
       "      <td>1183295</td>\n",
       "      <td>N</td>\n",
       "      <td>ES</td>\n",
       "      <td>H</td>\n",
       "      <td>56</td>\n",
       "      <td>2013-09-25</td>\n",
       "      <td>0.0</td>\n",
       "      <td>22</td>\n",
       "      <td>...</td>\n",
       "      <td>0</td>\n",
       "      <td>0</td>\n",
       "      <td>0</td>\n",
       "      <td>0</td>\n",
       "      <td>0</td>\n",
       "      <td>0</td>\n",
       "      <td>0</td>\n",
       "      <td>0.0</td>\n",
       "      <td>0.0</td>\n",
       "      <td>0</td>\n",
       "    </tr>\n",
       "    <tr>\n",
       "      <th>999997</th>\n",
       "      <td>999997</td>\n",
       "      <td>2015-02-28</td>\n",
       "      <td>1183294</td>\n",
       "      <td>N</td>\n",
       "      <td>ES</td>\n",
       "      <td>V</td>\n",
       "      <td>39</td>\n",
       "      <td>2013-09-25</td>\n",
       "      <td>0.0</td>\n",
       "      <td>22</td>\n",
       "      <td>...</td>\n",
       "      <td>0</td>\n",
       "      <td>0</td>\n",
       "      <td>0</td>\n",
       "      <td>0</td>\n",
       "      <td>0</td>\n",
       "      <td>0</td>\n",
       "      <td>0</td>\n",
       "      <td>0.0</td>\n",
       "      <td>0.0</td>\n",
       "      <td>1</td>\n",
       "    </tr>\n",
       "    <tr>\n",
       "      <th>999998</th>\n",
       "      <td>999998</td>\n",
       "      <td>2015-02-28</td>\n",
       "      <td>1183293</td>\n",
       "      <td>N</td>\n",
       "      <td>ES</td>\n",
       "      <td>V</td>\n",
       "      <td>36</td>\n",
       "      <td>2013-09-25</td>\n",
       "      <td>0.0</td>\n",
       "      <td>22</td>\n",
       "      <td>...</td>\n",
       "      <td>0</td>\n",
       "      <td>0</td>\n",
       "      <td>0</td>\n",
       "      <td>0</td>\n",
       "      <td>0</td>\n",
       "      <td>0</td>\n",
       "      <td>0</td>\n",
       "      <td>0.0</td>\n",
       "      <td>0.0</td>\n",
       "      <td>1</td>\n",
       "    </tr>\n",
       "    <tr>\n",
       "      <th>999999</th>\n",
       "      <td>999999</td>\n",
       "      <td>2015-02-28</td>\n",
       "      <td>1183289</td>\n",
       "      <td>N</td>\n",
       "      <td>ES</td>\n",
       "      <td>H</td>\n",
       "      <td>38</td>\n",
       "      <td>2013-09-25</td>\n",
       "      <td>0.0</td>\n",
       "      <td>22</td>\n",
       "      <td>...</td>\n",
       "      <td>0</td>\n",
       "      <td>0</td>\n",
       "      <td>0</td>\n",
       "      <td>0</td>\n",
       "      <td>0</td>\n",
       "      <td>0</td>\n",
       "      <td>0</td>\n",
       "      <td>0.0</td>\n",
       "      <td>0.0</td>\n",
       "      <td>1</td>\n",
       "    </tr>\n",
       "  </tbody>\n",
       "</table>\n",
       "<p>1000000 rows × 48 columns</p>\n",
       "</div>"
      ],
      "text/plain": [
       "        Unnamed: 0  fecha_dato  ncodpers ind_empleado pais_residencia sexo  \\\n",
       "0                0  2015-01-28   1375586            N              ES    H   \n",
       "1                1  2015-01-28   1050611            N              ES    V   \n",
       "2                2  2015-01-28   1050612            N              ES    V   \n",
       "3                3  2015-01-28   1050613            N              ES    H   \n",
       "4                4  2015-01-28   1050614            N              ES    V   \n",
       "...            ...         ...       ...          ...             ...  ...   \n",
       "999995      999995  2015-02-28   1183296            N              ES    H   \n",
       "999996      999996  2015-02-28   1183295            N              ES    H   \n",
       "999997      999997  2015-02-28   1183294            N              ES    V   \n",
       "999998      999998  2015-02-28   1183293            N              ES    V   \n",
       "999999      999999  2015-02-28   1183289            N              ES    H   \n",
       "\n",
       "        age  fecha_alta  ind_nuevo antiguedad  ...  ind_hip_fin_ult1  \\\n",
       "0        35  2015-01-12        0.0          6  ...                 0   \n",
       "1        23  2012-08-10        0.0         35  ...                 0   \n",
       "2        23  2012-08-10        0.0         35  ...                 0   \n",
       "3        22  2012-08-10        0.0         35  ...                 0   \n",
       "4        23  2012-08-10        0.0         35  ...                 0   \n",
       "...     ...         ...        ...        ...  ...               ...   \n",
       "999995   27  2013-09-25        0.0         22  ...                 0   \n",
       "999996   56  2013-09-25        0.0         22  ...                 0   \n",
       "999997   39  2013-09-25        0.0         22  ...                 0   \n",
       "999998   36  2013-09-25        0.0         22  ...                 0   \n",
       "999999   38  2013-09-25        0.0         22  ...                 0   \n",
       "\n",
       "       ind_plan_fin_ult1  ind_pres_fin_ult1 ind_reca_fin_ult1  \\\n",
       "0                      0                  0                 0   \n",
       "1                      0                  0                 0   \n",
       "2                      0                  0                 0   \n",
       "3                      0                  0                 0   \n",
       "4                      0                  0                 0   \n",
       "...                  ...                ...               ...   \n",
       "999995                 0                  0                 0   \n",
       "999996                 0                  0                 0   \n",
       "999997                 0                  0                 0   \n",
       "999998                 0                  0                 0   \n",
       "999999                 0                  0                 0   \n",
       "\n",
       "       ind_tjcr_fin_ult1 ind_valo_fin_ult1 ind_viv_fin_ult1 ind_nomina_ult1  \\\n",
       "0                      0                 0                0             0.0   \n",
       "1                      0                 0                0             0.0   \n",
       "2                      0                 0                0             0.0   \n",
       "3                      0                 0                0             0.0   \n",
       "4                      0                 0                0             0.0   \n",
       "...                  ...               ...              ...             ...   \n",
       "999995                 0                 0                0             0.0   \n",
       "999996                 0                 0                0             0.0   \n",
       "999997                 0                 0                0             0.0   \n",
       "999998                 0                 0                0             0.0   \n",
       "999999                 0                 0                0             0.0   \n",
       "\n",
       "       ind_nom_pens_ult1  ind_recibo_ult1  \n",
       "0                    0.0                0  \n",
       "1                    0.0                0  \n",
       "2                    0.0                0  \n",
       "3                    0.0                0  \n",
       "4                    0.0                0  \n",
       "...                  ...              ...  \n",
       "999995               0.0                1  \n",
       "999996               0.0                0  \n",
       "999997               0.0                1  \n",
       "999998               0.0                1  \n",
       "999999               0.0                1  \n",
       "\n",
       "[1000000 rows x 48 columns]"
      ]
     },
     "execution_count": 9,
     "metadata": {},
     "output_type": "execute_result"
    }
   ],
   "source": [
    "data"
   ]
  },
  {
   "cell_type": "code",
   "execution_count": 11,
   "id": "60d5b3bf-1c73-4267-8756-7bc71774bcba",
   "metadata": {},
   "outputs": [
    {
     "name": "stdout",
     "output_type": "stream",
     "text": [
      "<class 'pandas.core.frame.DataFrame'>\n",
      "RangeIndex: 1000000 entries, 0 to 999999\n",
      "Data columns (total 48 columns):\n",
      " #   Column                 Non-Null Count    Dtype  \n",
      "---  ------                 --------------    -----  \n",
      " 0   Unnamed: 0             1000000 non-null  int64  \n",
      " 1   fecha_dato             1000000 non-null  object \n",
      " 2   ncodpers               1000000 non-null  int64  \n",
      " 3   ind_empleado           989218 non-null   object \n",
      " 4   pais_residencia        989218 non-null   object \n",
      " 5   sexo                   989214 non-null   object \n",
      " 6   age                    1000000 non-null  object \n",
      " 7   fecha_alta             989218 non-null   object \n",
      " 8   ind_nuevo              989218 non-null   float64\n",
      " 9   antiguedad             1000000 non-null  object \n",
      " 10  indrel                 989218 non-null   float64\n",
      " 11  ult_fec_cli_1t         1101 non-null     object \n",
      " 12  indrel_1mes            989218 non-null   float64\n",
      " 13  tiprel_1mes            989218 non-null   object \n",
      " 14  indresi                989218 non-null   object \n",
      " 15  indext                 989218 non-null   object \n",
      " 16  conyuemp               178 non-null      object \n",
      " 17  canal_entrada          989139 non-null   object \n",
      " 18  indfall                989218 non-null   object \n",
      " 19  tipodom                989218 non-null   float64\n",
      " 20  cod_prov               982266 non-null   float64\n",
      " 21  nomprov                982266 non-null   object \n",
      " 22  ind_actividad_cliente  989218 non-null   float64\n",
      " 23  renta                  824817 non-null   float64\n",
      " 24  ind_ahor_fin_ult1      1000000 non-null  int64  \n",
      " 25  ind_aval_fin_ult1      1000000 non-null  int64  \n",
      " 26  ind_cco_fin_ult1       1000000 non-null  int64  \n",
      " 27  ind_cder_fin_ult1      1000000 non-null  int64  \n",
      " 28  ind_cno_fin_ult1       1000000 non-null  int64  \n",
      " 29  ind_ctju_fin_ult1      1000000 non-null  int64  \n",
      " 30  ind_ctma_fin_ult1      1000000 non-null  int64  \n",
      " 31  ind_ctop_fin_ult1      1000000 non-null  int64  \n",
      " 32  ind_ctpp_fin_ult1      1000000 non-null  int64  \n",
      " 33  ind_deco_fin_ult1      1000000 non-null  int64  \n",
      " 34  ind_deme_fin_ult1      1000000 non-null  int64  \n",
      " 35  ind_dela_fin_ult1      1000000 non-null  int64  \n",
      " 36  ind_ecue_fin_ult1      1000000 non-null  int64  \n",
      " 37  ind_fond_fin_ult1      1000000 non-null  int64  \n",
      " 38  ind_hip_fin_ult1       1000000 non-null  int64  \n",
      " 39  ind_plan_fin_ult1      1000000 non-null  int64  \n",
      " 40  ind_pres_fin_ult1      1000000 non-null  int64  \n",
      " 41  ind_reca_fin_ult1      1000000 non-null  int64  \n",
      " 42  ind_tjcr_fin_ult1      1000000 non-null  int64  \n",
      " 43  ind_valo_fin_ult1      1000000 non-null  int64  \n",
      " 44  ind_viv_fin_ult1       1000000 non-null  int64  \n",
      " 45  ind_nomina_ult1        994598 non-null   float64\n",
      " 46  ind_nom_pens_ult1      994598 non-null   float64\n",
      " 47  ind_recibo_ult1        1000000 non-null  int64  \n",
      "dtypes: float64(9), int64(24), object(15)\n",
      "memory usage: 366.2+ MB\n"
     ]
    }
   ],
   "source": [
    "data.info()"
   ]
  },
  {
   "cell_type": "code",
   "execution_count": 23,
   "id": "16ced344-d062-4c90-828f-74b4c14f394a",
   "metadata": {},
   "outputs": [],
   "source": [
    "#we can remove column 'Unnamed:0', as it is same as indices.."
   ]
  },
  {
   "cell_type": "code",
   "execution_count": 17,
   "id": "67e568e6-2430-4abe-96ac-3d991bc4c4e1",
   "metadata": {},
   "outputs": [],
   "source": [
    "# Remove the column \n",
    "data.drop('Unnamed: 0', axis=1, inplace=True)  "
   ]
  },
  {
   "cell_type": "code",
   "execution_count": 21,
   "id": "76633acb-1d6a-4a0f-80ba-ff547d7c8d24",
   "metadata": {},
   "outputs": [],
   "source": [
    "#We can change the column names to something meaningful"
   ]
  },
  {
   "cell_type": "code",
   "execution_count": 25,
   "id": "ddd234e1-92e6-44a2-897d-1b68eeef7c9d",
   "metadata": {},
   "outputs": [],
   "source": [
    "# Dictionary mapping original column names to new descriptive names\n",
    "column_mapping = {\n",
    "    'fecha_dato': 'data_partition_date',\n",
    "    'ncodpers': 'customer_id',\n",
    "    'ind_empleado': 'employee_status',\n",
    "    'pais_residencia': 'residence_country',\n",
    "    'sexo': 'gender',\n",
    "    'age': 'customer_age',\n",
    "    'fecha_alta': 'contract_start_date',\n",
    "    'ind_nuevo': 'new_customer_index',\n",
    "    'antiguedad': 'customer_seniority_months',\n",
    "    'indrel': 'primary_customer_status',\n",
    "    'ult_fec_cli_1t': 'last_primary_customer_date',\n",
    "    'indrel_1mes': 'start_of_month_customer_type',\n",
    "    'tiprel_1mes': 'start_of_month_customer_relation',\n",
    "    'indresi': 'residence_index',\n",
    "    'indext': 'foreigner_index',\n",
    "    'conyuemp': 'spouse_employee_index',\n",
    "    'canal_entrada': 'customer_joining_channel',\n",
    "    'indfall': 'deceased_index',\n",
    "    'tipodom': 'address_type',\n",
    "    'cod_prov': 'province_code',\n",
    "    'nomprov': 'province_name',\n",
    "    'ind_actividad_cliente': 'customer_activity_index',\n",
    "    'renta': 'household_income',\n",
    "    'ind_ahor_fin_ult1': 'saving_account_status',\n",
    "    'ind_aval_fin_ult1': 'guarantees_status',\n",
    "    'ind_cco_fin_ult1': 'current_account_status',\n",
    "    'ind_cder_fin_ult1': 'derivada_account_status',\n",
    "    'ind_cno_fin_ult1': 'payroll_account_status',\n",
    "    'ind_ctju_fin_ult1': 'junior_account_status',\n",
    "    'ind_ctma_fin_ult1': 'mas_particular_account_status',\n",
    "    'ind_ctop_fin_ult1': 'particular_account_status',\n",
    "    'ind_ctpp_fin_ult1': 'particular_plus_account_status',\n",
    "    'ind_deco_fin_ult1': 'short_term_deposit_status',\n",
    "    'ind_deme_fin_ult1': 'medium_term_deposit_status',\n",
    "    'ind_dela_fin_ult1': 'long_term_deposit_status',\n",
    "    'ind_ecue_fin_ult1': 'e_account_status',\n",
    "    'ind_fond_fin_ult1': 'funds_status',\n",
    "    'ind_hip_fin_ult1': 'mortgage_status',\n",
    "    'ind_plan_fin_ult1': 'pensions_status',\n",
    "    'ind_pres_fin_ult1': 'loans_status',\n",
    "    'ind_reca_fin_ult1': 'taxes_status',\n",
    "    'ind_tjcr_fin_ult1': 'credit_card_status',\n",
    "    'ind_valo_fin_ult1': 'securities_status',\n",
    "    'ind_viv_fin_ult1': 'home_account_status',\n",
    "    'ind_nomina_ult1': 'payroll_status',\n",
    "    'ind_nom_pens_ult1': 'pensions_status_last_month',\n",
    "    'ind_recibo_ult1': 'direct_debit_status'\n",
    "}\n",
    "\n",
    "# Rename the columns in the DataFrame\n",
    "data.rename(columns=column_mapping, inplace=True)"
   ]
  },
  {
   "cell_type": "code",
   "execution_count": 27,
   "id": "e85284bf-568d-4a0c-a6f4-066a17d6eda2",
   "metadata": {},
   "outputs": [
    {
     "data": {
      "text/html": [
       "<div>\n",
       "<style scoped>\n",
       "    .dataframe tbody tr th:only-of-type {\n",
       "        vertical-align: middle;\n",
       "    }\n",
       "\n",
       "    .dataframe tbody tr th {\n",
       "        vertical-align: top;\n",
       "    }\n",
       "\n",
       "    .dataframe thead th {\n",
       "        text-align: right;\n",
       "    }\n",
       "</style>\n",
       "<table border=\"1\" class=\"dataframe\">\n",
       "  <thead>\n",
       "    <tr style=\"text-align: right;\">\n",
       "      <th></th>\n",
       "      <th>data_partition_date</th>\n",
       "      <th>customer_id</th>\n",
       "      <th>employee_status</th>\n",
       "      <th>residence_country</th>\n",
       "      <th>gender</th>\n",
       "      <th>customer_age</th>\n",
       "      <th>contract_start_date</th>\n",
       "      <th>new_customer_index</th>\n",
       "      <th>customer_seniority_months</th>\n",
       "      <th>primary_customer_status</th>\n",
       "      <th>...</th>\n",
       "      <th>mortgage_status</th>\n",
       "      <th>pensions_status</th>\n",
       "      <th>loans_status</th>\n",
       "      <th>taxes_status</th>\n",
       "      <th>credit_card_status</th>\n",
       "      <th>securities_status</th>\n",
       "      <th>home_account_status</th>\n",
       "      <th>payroll_status</th>\n",
       "      <th>pensions_status_last_month</th>\n",
       "      <th>direct_debit_status</th>\n",
       "    </tr>\n",
       "  </thead>\n",
       "  <tbody>\n",
       "    <tr>\n",
       "      <th>0</th>\n",
       "      <td>2015-01-28</td>\n",
       "      <td>1375586</td>\n",
       "      <td>N</td>\n",
       "      <td>ES</td>\n",
       "      <td>H</td>\n",
       "      <td>35</td>\n",
       "      <td>2015-01-12</td>\n",
       "      <td>0.0</td>\n",
       "      <td>6</td>\n",
       "      <td>1.0</td>\n",
       "      <td>...</td>\n",
       "      <td>0</td>\n",
       "      <td>0</td>\n",
       "      <td>0</td>\n",
       "      <td>0</td>\n",
       "      <td>0</td>\n",
       "      <td>0</td>\n",
       "      <td>0</td>\n",
       "      <td>0.0</td>\n",
       "      <td>0.0</td>\n",
       "      <td>0</td>\n",
       "    </tr>\n",
       "    <tr>\n",
       "      <th>1</th>\n",
       "      <td>2015-01-28</td>\n",
       "      <td>1050611</td>\n",
       "      <td>N</td>\n",
       "      <td>ES</td>\n",
       "      <td>V</td>\n",
       "      <td>23</td>\n",
       "      <td>2012-08-10</td>\n",
       "      <td>0.0</td>\n",
       "      <td>35</td>\n",
       "      <td>1.0</td>\n",
       "      <td>...</td>\n",
       "      <td>0</td>\n",
       "      <td>0</td>\n",
       "      <td>0</td>\n",
       "      <td>0</td>\n",
       "      <td>0</td>\n",
       "      <td>0</td>\n",
       "      <td>0</td>\n",
       "      <td>0.0</td>\n",
       "      <td>0.0</td>\n",
       "      <td>0</td>\n",
       "    </tr>\n",
       "    <tr>\n",
       "      <th>2</th>\n",
       "      <td>2015-01-28</td>\n",
       "      <td>1050612</td>\n",
       "      <td>N</td>\n",
       "      <td>ES</td>\n",
       "      <td>V</td>\n",
       "      <td>23</td>\n",
       "      <td>2012-08-10</td>\n",
       "      <td>0.0</td>\n",
       "      <td>35</td>\n",
       "      <td>1.0</td>\n",
       "      <td>...</td>\n",
       "      <td>0</td>\n",
       "      <td>0</td>\n",
       "      <td>0</td>\n",
       "      <td>0</td>\n",
       "      <td>0</td>\n",
       "      <td>0</td>\n",
       "      <td>0</td>\n",
       "      <td>0.0</td>\n",
       "      <td>0.0</td>\n",
       "      <td>0</td>\n",
       "    </tr>\n",
       "    <tr>\n",
       "      <th>3</th>\n",
       "      <td>2015-01-28</td>\n",
       "      <td>1050613</td>\n",
       "      <td>N</td>\n",
       "      <td>ES</td>\n",
       "      <td>H</td>\n",
       "      <td>22</td>\n",
       "      <td>2012-08-10</td>\n",
       "      <td>0.0</td>\n",
       "      <td>35</td>\n",
       "      <td>1.0</td>\n",
       "      <td>...</td>\n",
       "      <td>0</td>\n",
       "      <td>0</td>\n",
       "      <td>0</td>\n",
       "      <td>0</td>\n",
       "      <td>0</td>\n",
       "      <td>0</td>\n",
       "      <td>0</td>\n",
       "      <td>0.0</td>\n",
       "      <td>0.0</td>\n",
       "      <td>0</td>\n",
       "    </tr>\n",
       "    <tr>\n",
       "      <th>4</th>\n",
       "      <td>2015-01-28</td>\n",
       "      <td>1050614</td>\n",
       "      <td>N</td>\n",
       "      <td>ES</td>\n",
       "      <td>V</td>\n",
       "      <td>23</td>\n",
       "      <td>2012-08-10</td>\n",
       "      <td>0.0</td>\n",
       "      <td>35</td>\n",
       "      <td>1.0</td>\n",
       "      <td>...</td>\n",
       "      <td>0</td>\n",
       "      <td>0</td>\n",
       "      <td>0</td>\n",
       "      <td>0</td>\n",
       "      <td>0</td>\n",
       "      <td>0</td>\n",
       "      <td>0</td>\n",
       "      <td>0.0</td>\n",
       "      <td>0.0</td>\n",
       "      <td>0</td>\n",
       "    </tr>\n",
       "  </tbody>\n",
       "</table>\n",
       "<p>5 rows × 47 columns</p>\n",
       "</div>"
      ],
      "text/plain": [
       "  data_partition_date  customer_id employee_status residence_country gender  \\\n",
       "0          2015-01-28      1375586               N                ES      H   \n",
       "1          2015-01-28      1050611               N                ES      V   \n",
       "2          2015-01-28      1050612               N                ES      V   \n",
       "3          2015-01-28      1050613               N                ES      H   \n",
       "4          2015-01-28      1050614               N                ES      V   \n",
       "\n",
       "  customer_age contract_start_date  new_customer_index  \\\n",
       "0           35          2015-01-12                 0.0   \n",
       "1           23          2012-08-10                 0.0   \n",
       "2           23          2012-08-10                 0.0   \n",
       "3           22          2012-08-10                 0.0   \n",
       "4           23          2012-08-10                 0.0   \n",
       "\n",
       "  customer_seniority_months  primary_customer_status  ... mortgage_status  \\\n",
       "0                         6                      1.0  ...               0   \n",
       "1                        35                      1.0  ...               0   \n",
       "2                        35                      1.0  ...               0   \n",
       "3                        35                      1.0  ...               0   \n",
       "4                        35                      1.0  ...               0   \n",
       "\n",
       "   pensions_status loans_status taxes_status credit_card_status  \\\n",
       "0                0            0            0                  0   \n",
       "1                0            0            0                  0   \n",
       "2                0            0            0                  0   \n",
       "3                0            0            0                  0   \n",
       "4                0            0            0                  0   \n",
       "\n",
       "  securities_status home_account_status payroll_status  \\\n",
       "0                 0                   0            0.0   \n",
       "1                 0                   0            0.0   \n",
       "2                 0                   0            0.0   \n",
       "3                 0                   0            0.0   \n",
       "4                 0                   0            0.0   \n",
       "\n",
       "   pensions_status_last_month  direct_debit_status  \n",
       "0                         0.0                    0  \n",
       "1                         0.0                    0  \n",
       "2                         0.0                    0  \n",
       "3                         0.0                    0  \n",
       "4                         0.0                    0  \n",
       "\n",
       "[5 rows x 47 columns]"
      ]
     },
     "execution_count": 27,
     "metadata": {},
     "output_type": "execute_result"
    }
   ],
   "source": [
    "data.head(5)"
   ]
  },
  {
   "cell_type": "code",
   "execution_count": 29,
   "id": "299e9440-0f42-4cc1-978b-af5bb2a4acc9",
   "metadata": {},
   "outputs": [
    {
     "data": {
      "text/plain": [
       "data_partition_date                      0\n",
       "customer_id                              0\n",
       "employee_status                      10782\n",
       "residence_country                    10782\n",
       "gender                               10786\n",
       "customer_age                             0\n",
       "contract_start_date                  10782\n",
       "new_customer_index                   10782\n",
       "customer_seniority_months                0\n",
       "primary_customer_status              10782\n",
       "last_primary_customer_date          998899\n",
       "start_of_month_customer_type         10782\n",
       "start_of_month_customer_relation     10782\n",
       "residence_index                      10782\n",
       "foreigner_index                      10782\n",
       "spouse_employee_index               999822\n",
       "customer_joining_channel             10861\n",
       "deceased_index                       10782\n",
       "address_type                         10782\n",
       "province_code                        17734\n",
       "province_name                        17734\n",
       "customer_activity_index              10782\n",
       "household_income                    175183\n",
       "saving_account_status                    0\n",
       "guarantees_status                        0\n",
       "current_account_status                   0\n",
       "derivada_account_status                  0\n",
       "payroll_account_status                   0\n",
       "junior_account_status                    0\n",
       "mas_particular_account_status            0\n",
       "particular_account_status                0\n",
       "particular_plus_account_status           0\n",
       "short_term_deposit_status                0\n",
       "medium_term_deposit_status               0\n",
       "long_term_deposit_status                 0\n",
       "e_account_status                         0\n",
       "funds_status                             0\n",
       "mortgage_status                          0\n",
       "pensions_status                          0\n",
       "loans_status                             0\n",
       "taxes_status                             0\n",
       "credit_card_status                       0\n",
       "securities_status                        0\n",
       "home_account_status                      0\n",
       "payroll_status                        5402\n",
       "pensions_status_last_month            5402\n",
       "direct_debit_status                      0\n",
       "dtype: int64"
      ]
     },
     "execution_count": 29,
     "metadata": {},
     "output_type": "execute_result"
    }
   ],
   "source": [
    "data.isnull().sum()"
   ]
  },
  {
   "cell_type": "code",
   "execution_count": 35,
   "id": "92c8a326-7edf-413c-b9ea-99c6bdddd723",
   "metadata": {},
   "outputs": [
    {
     "name": "stdout",
     "output_type": "stream",
     "text": [
      "data_partition_date                  0.0000\n",
      "customer_id                          0.0000\n",
      "employee_status                      1.0782\n",
      "residence_country                    1.0782\n",
      "gender                               1.0786\n",
      "customer_age                         0.0000\n",
      "contract_start_date                  1.0782\n",
      "new_customer_index                   1.0782\n",
      "customer_seniority_months            0.0000\n",
      "primary_customer_status              1.0782\n",
      "last_primary_customer_date          99.8899\n",
      "start_of_month_customer_type         1.0782\n",
      "start_of_month_customer_relation     1.0782\n",
      "residence_index                      1.0782\n",
      "foreigner_index                      1.0782\n",
      "spouse_employee_index               99.9822\n",
      "customer_joining_channel             1.0861\n",
      "deceased_index                       1.0782\n",
      "address_type                         1.0782\n",
      "province_code                        1.7734\n",
      "province_name                        1.7734\n",
      "customer_activity_index              1.0782\n",
      "household_income                    17.5183\n",
      "saving_account_status                0.0000\n",
      "guarantees_status                    0.0000\n",
      "current_account_status               0.0000\n",
      "derivada_account_status              0.0000\n",
      "payroll_account_status               0.0000\n",
      "junior_account_status                0.0000\n",
      "mas_particular_account_status        0.0000\n",
      "particular_account_status            0.0000\n",
      "particular_plus_account_status       0.0000\n",
      "short_term_deposit_status            0.0000\n",
      "medium_term_deposit_status           0.0000\n",
      "long_term_deposit_status             0.0000\n",
      "e_account_status                     0.0000\n",
      "funds_status                         0.0000\n",
      "mortgage_status                      0.0000\n",
      "pensions_status                      0.0000\n",
      "loans_status                         0.0000\n",
      "taxes_status                         0.0000\n",
      "credit_card_status                   0.0000\n",
      "securities_status                    0.0000\n",
      "home_account_status                  0.0000\n",
      "payroll_status                       0.5402\n",
      "pensions_status_last_month           0.5402\n",
      "direct_debit_status                  0.0000\n",
      "dtype: float64\n"
     ]
    }
   ],
   "source": [
    "# Calculate the percentage of null values in each column\n",
    "print(data.isnull().mean() * 100)"
   ]
  },
  {
   "cell_type": "code",
   "execution_count": 37,
   "id": "86145e49-1a8a-41bd-80c2-ecd7e36aecd4",
   "metadata": {},
   "outputs": [],
   "source": [
    "#We can remove the columns with null values greater than 50-60%, we do have two columns with very high null values,\n",
    "#As these columns do not serve any purpose towards our segmentation.."
   ]
  },
  {
   "cell_type": "code",
   "execution_count": 39,
   "id": "a116c91a-a5b2-4f15-bf71-7bddd4b25df8",
   "metadata": {},
   "outputs": [],
   "source": [
    "data.drop(columns=['last_primary_customer_date', 'spouse_employee_index'], inplace=True)"
   ]
  },
  {
   "cell_type": "code",
   "execution_count": 61,
   "id": "b94b3171-de86-42cf-bc2f-7fba791352d5",
   "metadata": {},
   "outputs": [],
   "source": [
    "#We can see a column with 17% values of it missing i.e. \"household income\""
   ]
  },
  {
   "cell_type": "code",
   "execution_count": 67,
   "id": "fe60cfbe-8605-4df2-8dbd-a8aec14b2536",
   "metadata": {},
   "outputs": [],
   "source": [
    "#It's no way we can put dummy values into household income column, it can skew the graph, better to get rid of them than to put in \n",
    "#-------- \"false\" values"
   ]
  },
  {
   "cell_type": "code",
   "execution_count": 69,
   "id": "5e6a6b1a-3c56-48cb-8a50-a83bf329cda6",
   "metadata": {},
   "outputs": [],
   "source": [
    "data.dropna(subset=['household_income'], inplace=True)"
   ]
  },
  {
   "cell_type": "code",
   "execution_count": 79,
   "id": "639d8c64-1566-4ea9-8098-a49a2b68fec6",
   "metadata": {},
   "outputs": [
    {
     "data": {
      "text/plain": [
       "data_partition_date                  0\n",
       "customer_id                          0\n",
       "employee_status                      0\n",
       "residence_country                    0\n",
       "gender                               0\n",
       "customer_age                         0\n",
       "contract_start_date                  0\n",
       "new_customer_index                   0\n",
       "customer_seniority_months            0\n",
       "primary_customer_status              0\n",
       "start_of_month_customer_type         0\n",
       "start_of_month_customer_relation     0\n",
       "residence_index                      0\n",
       "foreigner_index                      0\n",
       "customer_joining_channel            68\n",
       "deceased_index                       0\n",
       "address_type                         0\n",
       "province_code                        8\n",
       "province_name                        8\n",
       "customer_activity_index              0\n",
       "household_income                     0\n",
       "saving_account_status                0\n",
       "guarantees_status                    0\n",
       "current_account_status               0\n",
       "derivada_account_status              0\n",
       "payroll_account_status               0\n",
       "junior_account_status                0\n",
       "mas_particular_account_status        0\n",
       "particular_account_status            0\n",
       "particular_plus_account_status       0\n",
       "short_term_deposit_status            0\n",
       "medium_term_deposit_status           0\n",
       "long_term_deposit_status             0\n",
       "e_account_status                     0\n",
       "funds_status                         0\n",
       "mortgage_status                      0\n",
       "pensions_status                      0\n",
       "loans_status                         0\n",
       "taxes_status                         0\n",
       "credit_card_status                   0\n",
       "securities_status                    0\n",
       "home_account_status                  0\n",
       "payroll_status                      78\n",
       "pensions_status_last_month          78\n",
       "direct_debit_status                  0\n",
       "dtype: int64"
      ]
     },
     "execution_count": 79,
     "metadata": {},
     "output_type": "execute_result"
    }
   ],
   "source": [
    "data.isnull().sum()"
   ]
  },
  {
   "cell_type": "code",
   "execution_count": 75,
   "id": "ea79c3be-5bb7-4401-bec8-83be4854498d",
   "metadata": {},
   "outputs": [],
   "source": [
    "#Let's inspect the remaining columns with null values"
   ]
  },
  {
   "cell_type": "code",
   "execution_count": 99,
   "id": "5aa6c3c7-8386-441f-9f65-de6b0fcf183f",
   "metadata": {},
   "outputs": [
    {
     "data": {
      "text/plain": [
       "array(['KHL', 'KHE', 'KHD', 'KFA', 'KFC', 'KAT', 'RED', 'KAZ', 'KHC',\n",
       "       'KHK', 'KHM', 'KHO', 'KDH', 'KEH', 'KAD', 'KBG', 'KGC', nan, 'KHF',\n",
       "       'KFK', 'KHN', 'KHA', 'KAF', 'KGX', 'KFD', 'KAG', 'KFG', 'KAB',\n",
       "       'KCC', 'KAE', 'KAH', 'KAR', 'KFJ', 'KFU', 'KAQ', 'KFS', 'KAA',\n",
       "       'KFP', 'KAJ', 'KFN', 'KGV', 'KGY', 'KAP', 'KFF', 'KFL', 'KAI',\n",
       "       'KDE', 'KFV', '013', 'K00', 'KAK', 'KCK', 'KCL', 'KAY', 'KBU',\n",
       "       'KDR', 'KDT', 'KCG', 'KDO', 'KBQ', 'KDA', 'KBO', 'KEC', 'KES',\n",
       "       'KBZ', 'KAS', '007', 'KEU', 'KCA', 'KAL', 'KDC', 'KAW', 'KCI',\n",
       "       'KAC', 'KCS', 'KCB', 'KDU', 'KDQ', 'KCN', 'KCM', '004', 'KCH',\n",
       "       'KCD', 'KCE', 'KDY', 'KEA', 'KBL', 'KBH', 'KDV', 'KFT', 'KEY',\n",
       "       'KAO', 'KEJ', 'KEO', 'KEV', 'KEI', 'KEW', 'KDZ', 'KBV', 'KBR',\n",
       "       'KBF', 'KDP', 'KCO', 'KCF', 'KCV', 'KAM', 'KBD', 'KAN', 'KBY',\n",
       "       'KDX', 'KDD', 'KBW', 'KBX', 'KCU', 'KDB', 'KBS', 'KBE', 'KCX',\n",
       "       'KBP', 'KEB', 'KDS', 'KEL', 'KDG', 'KDF', 'KEF', 'KCP', 'KDM',\n",
       "       'KBB', 'KEZ', 'KBJ', 'KFI', 'KBM', 'KDW', 'KEG', 'KEN', 'KEQ',\n",
       "       'KAV', 'KFH', 'KAU', 'KED', 'KEK', 'KGW', 'KFM', 'KFE', 'KGU',\n",
       "       'KDI', 'KFB', 'KDN', 'KCR', 'KCQ', 'KEM', 'KEE', 'KCJ'],\n",
       "      dtype=object)"
      ]
     },
     "execution_count": 99,
     "metadata": {},
     "output_type": "execute_result"
    }
   ],
   "source": [
    "data['customer_joining_channel'].unique()"
   ]
  },
  {
   "cell_type": "code",
   "execution_count": 101,
   "id": "e9f9a4f6-10ea-4102-a6aa-00a68d886f09",
   "metadata": {},
   "outputs": [],
   "source": [
    "#Every entry is unique in the above column removing the Nan values from the column seems correct"
   ]
  },
  {
   "cell_type": "code",
   "execution_count": 103,
   "id": "4a407331-f388-4643-9691-1ad267e88032",
   "metadata": {},
   "outputs": [],
   "source": [
    "data.dropna(subset=['customer_joining_channel'], inplace=True)"
   ]
  },
  {
   "cell_type": "code",
   "execution_count": 109,
   "id": "990eb95f-d552-4f33-aa20-7771c56e1f23",
   "metadata": {},
   "outputs": [
    {
     "data": {
      "text/plain": [
       "array([29., 13., 50., 45., 24., 10., 49., 37., 22.,  5., 40., 27.,  8.,\n",
       "       28.,  3., 42., 41., 39.,  7., 47., 36., 46., 44., 15., 32., 23.,\n",
       "       17., 26.,  2.,  9., 30., 11.,  6., 16.,  4., 19., 34., 12., 35.,\n",
       "       14., 25., 21., 18., 33., 38., 52., 43., 51., 31., 20., nan, 48.])"
      ]
     },
     "execution_count": 109,
     "metadata": {},
     "output_type": "execute_result"
    }
   ],
   "source": [
    "data['province_code'].unique()"
   ]
  },
  {
   "cell_type": "code",
   "execution_count": 113,
   "id": "aabd6885-ef7a-4de8-8c70-a2887796ecfd",
   "metadata": {},
   "outputs": [
    {
     "data": {
      "text/plain": [
       "0              MALAGA\n",
       "1         CIUDAD REAL\n",
       "2         CIUDAD REAL\n",
       "3            ZARAGOZA\n",
       "5              TOLEDO\n",
       "             ...     \n",
       "999995         MADRID\n",
       "999996      CORUÑA, A\n",
       "999997      CORUÑA, A\n",
       "999998         MADRID\n",
       "999999          CADIZ\n",
       "Name: province_name, Length: 824749, dtype: object"
      ]
     },
     "execution_count": 113,
     "metadata": {},
     "output_type": "execute_result"
    }
   ],
   "source": [
    "data['province_name']"
   ]
  },
  {
   "cell_type": "code",
   "execution_count": 115,
   "id": "01bd8a38-518e-4102-a4af-f8026dcbb1d8",
   "metadata": {},
   "outputs": [],
   "source": [
    "#Same goes with other columns: taking a look at them, we just cannot put any place-holder values in any of them.."
   ]
  },
  {
   "cell_type": "code",
   "execution_count": 117,
   "id": "89cc2d8e-150f-452b-b8e1-f373b665eae0",
   "metadata": {},
   "outputs": [],
   "source": [
    "data = data.dropna()"
   ]
  },
  {
   "cell_type": "code",
   "execution_count": 121,
   "id": "aa6aaa47-f245-4be4-81a6-c9b0f4613d27",
   "metadata": {},
   "outputs": [
    {
     "data": {
      "text/plain": [
       "data_partition_date                 0\n",
       "customer_id                         0\n",
       "employee_status                     0\n",
       "residence_country                   0\n",
       "gender                              0\n",
       "customer_age                        0\n",
       "contract_start_date                 0\n",
       "new_customer_index                  0\n",
       "customer_seniority_months           0\n",
       "primary_customer_status             0\n",
       "start_of_month_customer_type        0\n",
       "start_of_month_customer_relation    0\n",
       "residence_index                     0\n",
       "foreigner_index                     0\n",
       "customer_joining_channel            0\n",
       "deceased_index                      0\n",
       "address_type                        0\n",
       "province_code                       0\n",
       "province_name                       0\n",
       "customer_activity_index             0\n",
       "household_income                    0\n",
       "saving_account_status               0\n",
       "guarantees_status                   0\n",
       "current_account_status              0\n",
       "derivada_account_status             0\n",
       "payroll_account_status              0\n",
       "junior_account_status               0\n",
       "mas_particular_account_status       0\n",
       "particular_account_status           0\n",
       "particular_plus_account_status      0\n",
       "short_term_deposit_status           0\n",
       "medium_term_deposit_status          0\n",
       "long_term_deposit_status            0\n",
       "e_account_status                    0\n",
       "funds_status                        0\n",
       "mortgage_status                     0\n",
       "pensions_status                     0\n",
       "loans_status                        0\n",
       "taxes_status                        0\n",
       "credit_card_status                  0\n",
       "securities_status                   0\n",
       "home_account_status                 0\n",
       "payroll_status                      0\n",
       "pensions_status_last_month          0\n",
       "direct_debit_status                 0\n",
       "dtype: int64"
      ]
     },
     "execution_count": 121,
     "metadata": {},
     "output_type": "execute_result"
    }
   ],
   "source": [
    "data.isna().sum()"
   ]
  },
  {
   "cell_type": "code",
   "execution_count": 123,
   "id": "bad35a55-3bb1-4d1f-b4ee-3759925f84d0",
   "metadata": {},
   "outputs": [
    {
     "name": "stdout",
     "output_type": "stream",
     "text": [
      "<class 'pandas.core.frame.DataFrame'>\n",
      "Index: 824680 entries, 0 to 999999\n",
      "Data columns (total 45 columns):\n",
      " #   Column                            Non-Null Count   Dtype  \n",
      "---  ------                            --------------   -----  \n",
      " 0   data_partition_date               824680 non-null  object \n",
      " 1   customer_id                       824680 non-null  int64  \n",
      " 2   employee_status                   824680 non-null  object \n",
      " 3   residence_country                 824680 non-null  object \n",
      " 4   gender                            824680 non-null  object \n",
      " 5   customer_age                      824680 non-null  object \n",
      " 6   contract_start_date               824680 non-null  object \n",
      " 7   new_customer_index                824680 non-null  float64\n",
      " 8   customer_seniority_months         824680 non-null  object \n",
      " 9   primary_customer_status           824680 non-null  float64\n",
      " 10  start_of_month_customer_type      824680 non-null  float64\n",
      " 11  start_of_month_customer_relation  824680 non-null  object \n",
      " 12  residence_index                   824680 non-null  object \n",
      " 13  foreigner_index                   824680 non-null  object \n",
      " 14  customer_joining_channel          824680 non-null  object \n",
      " 15  deceased_index                    824680 non-null  object \n",
      " 16  address_type                      824680 non-null  float64\n",
      " 17  province_code                     824680 non-null  float64\n",
      " 18  province_name                     824680 non-null  object \n",
      " 19  customer_activity_index           824680 non-null  float64\n",
      " 20  household_income                  824680 non-null  float64\n",
      " 21  saving_account_status             824680 non-null  int64  \n",
      " 22  guarantees_status                 824680 non-null  int64  \n",
      " 23  current_account_status            824680 non-null  int64  \n",
      " 24  derivada_account_status           824680 non-null  int64  \n",
      " 25  payroll_account_status            824680 non-null  int64  \n",
      " 26  junior_account_status             824680 non-null  int64  \n",
      " 27  mas_particular_account_status     824680 non-null  int64  \n",
      " 28  particular_account_status         824680 non-null  int64  \n",
      " 29  particular_plus_account_status    824680 non-null  int64  \n",
      " 30  short_term_deposit_status         824680 non-null  int64  \n",
      " 31  medium_term_deposit_status        824680 non-null  int64  \n",
      " 32  long_term_deposit_status          824680 non-null  int64  \n",
      " 33  e_account_status                  824680 non-null  int64  \n",
      " 34  funds_status                      824680 non-null  int64  \n",
      " 35  mortgage_status                   824680 non-null  int64  \n",
      " 36  pensions_status                   824680 non-null  int64  \n",
      " 37  loans_status                      824680 non-null  int64  \n",
      " 38  taxes_status                      824680 non-null  int64  \n",
      " 39  credit_card_status                824680 non-null  int64  \n",
      " 40  securities_status                 824680 non-null  int64  \n",
      " 41  home_account_status               824680 non-null  int64  \n",
      " 42  payroll_status                    824680 non-null  float64\n",
      " 43  pensions_status_last_month        824680 non-null  float64\n",
      " 44  direct_debit_status               824680 non-null  int64  \n",
      "dtypes: float64(9), int64(23), object(13)\n",
      "memory usage: 289.4+ MB\n"
     ]
    }
   ],
   "source": [
    "data.info()"
   ]
  },
  {
   "cell_type": "code",
   "execution_count": 125,
   "id": "2faf48de-0d8f-47ec-8e5e-1b22d0f32140",
   "metadata": {},
   "outputs": [],
   "source": [
    "#Also we should convert the datatype of all the columns to its appropriate type"
   ]
  },
  {
   "cell_type": "code",
   "execution_count": 135,
   "id": "02d0fda4-ca47-44e4-980a-a703ef1a5402",
   "metadata": {},
   "outputs": [],
   "source": [
    "data.loc[:, 'data_partition_date'] = pd.to_datetime(data['data_partition_date'])"
   ]
  },
  {
   "cell_type": "code",
   "execution_count": 187,
   "id": "006c8db3-b78a-47c4-b9ad-4c68a5e85202",
   "metadata": {},
   "outputs": [
    {
     "data": {
      "text/plain": [
       "array(['N', 'A', 'F', 'B', 'S'], dtype=object)"
      ]
     },
     "execution_count": 187,
     "metadata": {},
     "output_type": "execute_result"
    }
   ],
   "source": [
    "data['employee_status'].unique()"
   ]
  },
  {
   "cell_type": "code",
   "execution_count": 189,
   "id": "689c0b5d-1833-4417-ac97-a327bca88127",
   "metadata": {},
   "outputs": [],
   "source": [
    "#from the given information we have N, A, F, B, P but we don't have S"
   ]
  },
  {
   "cell_type": "code",
   "execution_count": 151,
   "id": "fb786834-fe0d-4ef2-a256-55cce6d0f592",
   "metadata": {},
   "outputs": [],
   "source": [
    "data.loc[:, 'employee_status'] = data['employee_status'].astype(str)"
   ]
  },
  {
   "cell_type": "code",
   "execution_count": 185,
   "id": "5c09ca91-e979-461f-b1f1-abd7da9cf0b3",
   "metadata": {},
   "outputs": [
    {
     "data": {
      "text/html": [
       "<div>\n",
       "<style scoped>\n",
       "    .dataframe tbody tr th:only-of-type {\n",
       "        vertical-align: middle;\n",
       "    }\n",
       "\n",
       "    .dataframe tbody tr th {\n",
       "        vertical-align: top;\n",
       "    }\n",
       "\n",
       "    .dataframe thead th {\n",
       "        text-align: right;\n",
       "    }\n",
       "</style>\n",
       "<table border=\"1\" class=\"dataframe\">\n",
       "  <thead>\n",
       "    <tr style=\"text-align: right;\">\n",
       "      <th></th>\n",
       "      <th>data_partition_date</th>\n",
       "      <th>customer_id</th>\n",
       "      <th>employee_status</th>\n",
       "      <th>residence_country</th>\n",
       "      <th>gender</th>\n",
       "      <th>customer_age</th>\n",
       "      <th>contract_start_date</th>\n",
       "      <th>new_customer_index</th>\n",
       "      <th>customer_seniority_months</th>\n",
       "      <th>primary_customer_status</th>\n",
       "      <th>...</th>\n",
       "      <th>mortgage_status</th>\n",
       "      <th>pensions_status</th>\n",
       "      <th>loans_status</th>\n",
       "      <th>taxes_status</th>\n",
       "      <th>credit_card_status</th>\n",
       "      <th>securities_status</th>\n",
       "      <th>home_account_status</th>\n",
       "      <th>payroll_status</th>\n",
       "      <th>pensions_status_last_month</th>\n",
       "      <th>direct_debit_status</th>\n",
       "    </tr>\n",
       "  </thead>\n",
       "  <tbody>\n",
       "    <tr>\n",
       "      <th>487513</th>\n",
       "      <td>2015-01-28</td>\n",
       "      <td>720152</td>\n",
       "      <td>S</td>\n",
       "      <td>ES</td>\n",
       "      <td>H</td>\n",
       "      <td>38</td>\n",
       "      <td>2007-09-21</td>\n",
       "      <td>0.0</td>\n",
       "      <td>94</td>\n",
       "      <td>1.0</td>\n",
       "      <td>...</td>\n",
       "      <td>0</td>\n",
       "      <td>1</td>\n",
       "      <td>0</td>\n",
       "      <td>0</td>\n",
       "      <td>0</td>\n",
       "      <td>1</td>\n",
       "      <td>0</td>\n",
       "      <td>1.0</td>\n",
       "      <td>1.0</td>\n",
       "      <td>1</td>\n",
       "    </tr>\n",
       "    <tr>\n",
       "      <th>779976</th>\n",
       "      <td>2015-02-28</td>\n",
       "      <td>720152</td>\n",
       "      <td>S</td>\n",
       "      <td>ES</td>\n",
       "      <td>H</td>\n",
       "      <td>38</td>\n",
       "      <td>2007-09-21</td>\n",
       "      <td>0.0</td>\n",
       "      <td>94</td>\n",
       "      <td>1.0</td>\n",
       "      <td>...</td>\n",
       "      <td>0</td>\n",
       "      <td>1</td>\n",
       "      <td>0</td>\n",
       "      <td>0</td>\n",
       "      <td>0</td>\n",
       "      <td>1</td>\n",
       "      <td>0</td>\n",
       "      <td>1.0</td>\n",
       "      <td>1.0</td>\n",
       "      <td>1</td>\n",
       "    </tr>\n",
       "  </tbody>\n",
       "</table>\n",
       "<p>2 rows × 45 columns</p>\n",
       "</div>"
      ],
      "text/plain": [
       "       data_partition_date  customer_id employee_status residence_country  \\\n",
       "487513          2015-01-28       720152               S                ES   \n",
       "779976          2015-02-28       720152               S                ES   \n",
       "\n",
       "       gender customer_age contract_start_date  new_customer_index  \\\n",
       "487513      H           38          2007-09-21                 0.0   \n",
       "779976      H           38          2007-09-21                 0.0   \n",
       "\n",
       "       customer_seniority_months  primary_customer_status  ...  \\\n",
       "487513                        94                      1.0  ...   \n",
       "779976                        94                      1.0  ...   \n",
       "\n",
       "        mortgage_status pensions_status loans_status taxes_status  \\\n",
       "487513                0               1            0            0   \n",
       "779976                0               1            0            0   \n",
       "\n",
       "       credit_card_status securities_status  home_account_status  \\\n",
       "487513                  0                 1                    0   \n",
       "779976                  0                 1                    0   \n",
       "\n",
       "        payroll_status pensions_status_last_month  direct_debit_status  \n",
       "487513             1.0                        1.0                    1  \n",
       "779976             1.0                        1.0                    1  \n",
       "\n",
       "[2 rows x 45 columns]"
      ]
     },
     "execution_count": 185,
     "metadata": {},
     "output_type": "execute_result"
    }
   ],
   "source": [
    "data[data['employee_status'] == 'S']"
   ]
  },
  {
   "cell_type": "code",
   "execution_count": null,
   "id": "5569510f-f8e3-422d-ae7c-68c8b8e90c8a",
   "metadata": {},
   "outputs": [],
   "source": [
    "#We don't really know if it is typo, but rather than invalid information lets just remove them"
   ]
  },
  {
   "cell_type": "code",
   "execution_count": 191,
   "id": "319e4f27-419f-4851-bfda-f9cdaaedec5e",
   "metadata": {},
   "outputs": [],
   "source": [
    "# Drop rows where 'employee_status' is 'S' using boolean indexing\n",
    "data = data.drop(data[data['employee_status'] == 'S'].index)"
   ]
  },
  {
   "cell_type": "code",
   "execution_count": 199,
   "id": "ec4cfd9b-7c3f-4a5f-9404-f6a038ebcd11",
   "metadata": {},
   "outputs": [
    {
     "data": {
      "text/plain": [
       "array(['ES', 'IT', 'DE', 'BO', 'PY'], dtype=object)"
      ]
     },
     "execution_count": 199,
     "metadata": {},
     "output_type": "execute_result"
    }
   ],
   "source": [
    "data['residence_country'].unique()"
   ]
  },
  {
   "cell_type": "code",
   "execution_count": 201,
   "id": "e9d7824c-b206-4907-b4bb-d4f832e9490d",
   "metadata": {},
   "outputs": [],
   "source": [
    "data.loc[:, 'residence_country'] = data['residence_country'].astype(str)"
   ]
  },
  {
   "cell_type": "code",
   "execution_count": 203,
   "id": "ceef26d1-72d2-482d-a911-8d7b39f144a4",
   "metadata": {},
   "outputs": [
    {
     "data": {
      "text/plain": [
       "array(['H', 'V'], dtype=object)"
      ]
     },
     "execution_count": 203,
     "metadata": {},
     "output_type": "execute_result"
    }
   ],
   "source": [
    "data['gender'].unique()"
   ]
  },
  {
   "cell_type": "code",
   "execution_count": 205,
   "id": "8e8af237-d82b-48c1-b473-0db25450fd19",
   "metadata": {},
   "outputs": [],
   "source": [
    "data.loc[:, 'gender'] = data['gender'].astype(str)"
   ]
  },
  {
   "cell_type": "code",
   "execution_count": 207,
   "id": "5b745736-bf3e-45d3-ac4e-0dfdcb032a52",
   "metadata": {},
   "outputs": [
    {
     "name": "stdout",
     "output_type": "stream",
     "text": [
      "<class 'pandas.core.frame.DataFrame'>\n",
      "Index: 824678 entries, 0 to 999999\n",
      "Data columns (total 45 columns):\n",
      " #   Column                            Non-Null Count   Dtype         \n",
      "---  ------                            --------------   -----         \n",
      " 0   data_partition_date               824678 non-null  datetime64[ns]\n",
      " 1   customer_id                       824678 non-null  int64         \n",
      " 2   employee_status                   824678 non-null  object        \n",
      " 3   residence_country                 824678 non-null  object        \n",
      " 4   gender                            824678 non-null  object        \n",
      " 5   customer_age                      824678 non-null  object        \n",
      " 6   contract_start_date               824678 non-null  object        \n",
      " 7   new_customer_index                824678 non-null  float64       \n",
      " 8   customer_seniority_months         824678 non-null  object        \n",
      " 9   primary_customer_status           824678 non-null  float64       \n",
      " 10  start_of_month_customer_type      824678 non-null  float64       \n",
      " 11  start_of_month_customer_relation  824678 non-null  object        \n",
      " 12  residence_index                   824678 non-null  object        \n",
      " 13  foreigner_index                   824678 non-null  object        \n",
      " 14  customer_joining_channel          824678 non-null  object        \n",
      " 15  deceased_index                    824678 non-null  object        \n",
      " 16  address_type                      824678 non-null  float64       \n",
      " 17  province_code                     824678 non-null  float64       \n",
      " 18  province_name                     824678 non-null  object        \n",
      " 19  customer_activity_index           824678 non-null  float64       \n",
      " 20  household_income                  824678 non-null  float64       \n",
      " 21  saving_account_status             824678 non-null  int64         \n",
      " 22  guarantees_status                 824678 non-null  int64         \n",
      " 23  current_account_status            824678 non-null  int64         \n",
      " 24  derivada_account_status           824678 non-null  int64         \n",
      " 25  payroll_account_status            824678 non-null  int64         \n",
      " 26  junior_account_status             824678 non-null  int64         \n",
      " 27  mas_particular_account_status     824678 non-null  int64         \n",
      " 28  particular_account_status         824678 non-null  int64         \n",
      " 29  particular_plus_account_status    824678 non-null  int64         \n",
      " 30  short_term_deposit_status         824678 non-null  int64         \n",
      " 31  medium_term_deposit_status        824678 non-null  int64         \n",
      " 32  long_term_deposit_status          824678 non-null  int64         \n",
      " 33  e_account_status                  824678 non-null  int64         \n",
      " 34  funds_status                      824678 non-null  int64         \n",
      " 35  mortgage_status                   824678 non-null  int64         \n",
      " 36  pensions_status                   824678 non-null  int64         \n",
      " 37  loans_status                      824678 non-null  int64         \n",
      " 38  taxes_status                      824678 non-null  int64         \n",
      " 39  credit_card_status                824678 non-null  int64         \n",
      " 40  securities_status                 824678 non-null  int64         \n",
      " 41  home_account_status               824678 non-null  int64         \n",
      " 42  payroll_status                    824678 non-null  float64       \n",
      " 43  pensions_status_last_month        824678 non-null  float64       \n",
      " 44  direct_debit_status               824678 non-null  int64         \n",
      "dtypes: datetime64[ns](1), float64(9), int64(23), object(12)\n",
      "memory usage: 289.4+ MB\n"
     ]
    }
   ],
   "source": [
    "data.info()"
   ]
  },
  {
   "cell_type": "code",
   "execution_count": 209,
   "id": "f0175b91-6863-4ce0-b705-2858aefe0089",
   "metadata": {},
   "outputs": [
    {
     "data": {
      "text/plain": [
       "array([' 35', ' 23', ' 22', ' 65', ' 24', ' 28', ' 25', ' 26', ' 53',\n",
       "       ' 27', ' 32', ' 37', ' 31', ' 39', ' 63', ' 33', ' 55', ' 42',\n",
       "       ' 38', ' 50', ' 30', ' 45', ' 44', ' 36', ' 29', ' 60', ' 57',\n",
       "       ' 67', ' 47', ' 34', ' 48', ' 46', ' 54', ' 84', ' 15', ' 12',\n",
       "       '  8', '  6', ' 83', ' 77', ' 69', ' 52', ' 59', ' 43', ' 10',\n",
       "       '  9', ' 49', ' 41', ' 58', ' 40', ' 51', ' 78', ' 16', ' 73',\n",
       "       ' 66', ' 62', ' 17', ' 68', ' 82', ' 95', ' 96', ' 56', ' 61',\n",
       "       ' 79', ' 72', ' 14', ' 11', ' 19', ' 13', ' 86', ' 64', ' 20',\n",
       "       ' 71', '  7', ' 70', ' 74', ' 21', ' 18', ' 75', '  4', '  5',\n",
       "       ' 81', ' 80', ' 76', ' 92', ' 89', ' 85', ' 91', ' 87', ' 90',\n",
       "       ' 94', ' 99', ' 93', ' 98', ' 88', ' 97', '100', '106', '103',\n",
       "       '101', '  3', '  2', '102', '104', '107', '109', '105', '112',\n",
       "       '110', '116', '108', '115', '111', '113'], dtype=object)"
      ]
     },
     "execution_count": 209,
     "metadata": {},
     "output_type": "execute_result"
    }
   ],
   "source": [
    "data['customer_age'].unique()"
   ]
  },
  {
   "cell_type": "code",
   "execution_count": 211,
   "id": "5534f24b-213b-4562-9e1a-fa91340a0205",
   "metadata": {},
   "outputs": [],
   "source": [
    "#The minimum age to open a bank account is typically 18 years, \n",
    "#but minors can open joint or custodial accounts, often starting from ages 13-16."
   ]
  },
  {
   "cell_type": "code",
   "execution_count": 213,
   "id": "ea87d98f-a421-4d5f-8e78-7cc0aee52cc3",
   "metadata": {},
   "outputs": [],
   "source": [
    "#The presence of ages like 3, 4, 5, etc., in dataset, \n",
    "#those might represent joint accounts, custodial accounts, or simply outliers or errors in the data."
   ]
  },
  {
   "cell_type": "code",
   "execution_count": 217,
   "id": "cd0a1b54-b190-4b84-8918-40b323621863",
   "metadata": {},
   "outputs": [],
   "source": [
    "# Convert 'customer_age' to numeric\n",
    "data['customer_age'] = pd.to_numeric(data['customer_age'])"
   ]
  },
  {
   "cell_type": "code",
   "execution_count": 223,
   "id": "2a94b007-7ecb-4f74-9542-808619421a81",
   "metadata": {},
   "outputs": [],
   "source": [
    "#Removing the outliers"
   ]
  },
  {
   "cell_type": "code",
   "execution_count": 225,
   "id": "74b6ed91-b486-45c2-8b96-db17425db22e",
   "metadata": {},
   "outputs": [],
   "source": [
    "data = data[(data['customer_age'] >= 13) & (data['customer_age'] <= 100)]"
   ]
  },
  {
   "cell_type": "code",
   "execution_count": 227,
   "id": "22bd1283-27b5-492d-8780-c28fe1ccec2b",
   "metadata": {},
   "outputs": [
    {
     "data": {
      "text/plain": [
       "array([ 35,  23,  22,  65,  24,  28,  25,  26,  53,  27,  32,  37,  31,\n",
       "        39,  63,  33,  55,  42,  38,  50,  30,  45,  44,  36,  29,  60,\n",
       "        57,  67,  47,  34,  48,  46,  54,  84,  15,  83,  77,  69,  52,\n",
       "        59,  43,  49,  41,  58,  40,  51,  78,  16,  73,  66,  62,  17,\n",
       "        68,  82,  95,  96,  56,  61,  79,  72,  14,  19,  13,  86,  64,\n",
       "        20,  71,  70,  74,  21,  18,  75,  81,  80,  76,  92,  89,  85,\n",
       "        91,  87,  90,  94,  99,  93,  98,  88,  97, 100])"
      ]
     },
     "execution_count": 227,
     "metadata": {},
     "output_type": "execute_result"
    }
   ],
   "source": [
    "data['customer_age'].unique()"
   ]
  },
  {
   "cell_type": "code",
   "execution_count": 241,
   "id": "6bb3e79f-98d1-4b24-94f3-2d6acf9eec1c",
   "metadata": {},
   "outputs": [],
   "source": [
    "data.loc[:, 'contract_start_date'] = pd.to_datetime(data['contract_start_date']).dt.date"
   ]
  },
  {
   "cell_type": "code",
   "execution_count": 245,
   "id": "1f087a93-0d91-4fc2-a0f8-ff234bb3f6c1",
   "metadata": {},
   "outputs": [
    {
     "data": {
      "text/plain": [
       "array([0., 1.])"
      ]
     },
     "execution_count": 245,
     "metadata": {},
     "output_type": "execute_result"
    }
   ],
   "source": [
    "data['new_customer_index'].unique()"
   ]
  },
  {
   "cell_type": "code",
   "execution_count": 249,
   "id": "41acbada-e6e7-47f9-84a4-5adcb6a26f43",
   "metadata": {},
   "outputs": [],
   "source": [
    "# Convert a float column to int\n",
    "data.loc[:, 'new_customer_index'] = data['new_customer_index'].astype(int)"
   ]
  },
  {
   "cell_type": "code",
   "execution_count": 273,
   "id": "f90290a6-c97e-405f-80e4-dde18a6fdc51",
   "metadata": {},
   "outputs": [
    {
     "name": "stderr",
     "output_type": "stream",
     "text": [
      "/var/folders/17/w4njhprj1gs4_s6cgfv7tn900000gn/T/ipykernel_12655/2537677583.py:1: SettingWithCopyWarning: \n",
      "A value is trying to be set on a copy of a slice from a DataFrame.\n",
      "Try using .loc[row_indexer,col_indexer] = value instead\n",
      "\n",
      "See the caveats in the documentation: https://pandas.pydata.org/pandas-docs/stable/user_guide/indexing.html#returning-a-view-versus-a-copy\n",
      "  data['new_customer_index'] = pd.to_numeric(data['new_customer_index'])\n"
     ]
    }
   ],
   "source": [
    "data['new_customer_index'] = pd.to_numeric(data['new_customer_index'])"
   ]
  },
  {
   "cell_type": "code",
   "execution_count": 253,
   "id": "62489b8a-b79a-46b5-86ea-ac5c7bcd545a",
   "metadata": {},
   "outputs": [
    {
     "data": {
      "text/plain": [
       "array(['      6', '     35', '     34', '     33', '     31', '     21',\n",
       "       '     27', '      9', '     22', '     13', '     29', '      8',\n",
       "       '     11', '     10', '     28', '     24', '     25', '     14',\n",
       "       '     26', '     12', '     16', '     23', '      7', '      1',\n",
       "       '     18', '      4', '      3', '     17', '     32', '     30',\n",
       "       '     20', '    157', '     36', '     40', '     19', '     38',\n",
       "       '     37', '     39', '     15', '      5', '     47', '     44',\n",
       "       '     42', '     46', '     45', '     43', '      0', '     41',\n",
       "       '     57', '     52', '     49', '     50', '     56', '     58',\n",
       "       '     51', '     48', '     55', '     54', '     53', '     59',\n",
       "       '     62', '     61', '     60', '     63', '      2', '    139',\n",
       "       '    165', '    118', '    164', '    159', '    143', '    105',\n",
       "       '    151', '    162', '    137', '    150', '    128', '    122',\n",
       "       '    156', '    119', '    160', '     79', '     95', '    132',\n",
       "       '    161', '    127', '     72', '    155', '    108', '    163',\n",
       "       '    102', '    148', '    115', '    146', '    107', '     81',\n",
       "       '    135', '     92', '    121', '    198', '    134', '    140',\n",
       "       '    110', '    120', '    147', '    116', '     64', '     77',\n",
       "       '     85', '     99', '     78', '     94', '    113', '    154',\n",
       "       '    133', '    124', '    141', '     66', '    117', '     86',\n",
       "       '    193', '    144', '     87', '    126', '    158', '    101',\n",
       "       '    235', '    145', '    103', '    149', '    109', '    131',\n",
       "       '     97', '    166', '     68', '     84', '    232', '    125',\n",
       "       '    177', '    112', '     69', '    171', '    142', '    104',\n",
       "       '     76', '     82', '     70', '    138', '    169', '     65',\n",
       "       '    129', '    100', '    114', '    176', '    153', '     89',\n",
       "       '    136', '     80', '     83', '    123', '    187', '    106',\n",
       "       '    231', '    189', '    111', '     88', '    217', '    172',\n",
       "       '    173', '    167', '    174', '    209', '    180', '     93',\n",
       "       '    152', '    216', '     98', '     91', '    199', '    168',\n",
       "       '     96', '    130', '    225', '     67', '    178', '     73',\n",
       "       '    183', '     74', '    206', '     71', '    179', '    184',\n",
       "       '    192', '    190', '     90', '    194', '    182', '    185',\n",
       "       '    195', '    186', '    207', '    208', '     75', '    175',\n",
       "       '    201', '    203', '    212', '    215', '    170', '    228',\n",
       "       '    214', '    202', '    196', '    181', '    191', '    200',\n",
       "       '    188', '    227', '    219', '    226', '    205', '    224',\n",
       "       '    210', '    242', '    223', '    233', '    220', '    218',\n",
       "       '    222', '    241', '    204', '    211', '    197', '    213',\n",
       "       '    237', '    221', '    229', '    234', '    240', '    243',\n",
       "       '    230', '    238', '    246', '    236', '    244', '    239',\n",
       "       '    245', '-999999'], dtype=object)"
      ]
     },
     "execution_count": 253,
     "metadata": {},
     "output_type": "execute_result"
    }
   ],
   "source": [
    "data['customer_seniority_months'].unique()"
   ]
  },
  {
   "cell_type": "code",
   "execution_count": 259,
   "id": "50ad0bc7-6182-4d15-9291-2899bb86b6d4",
   "metadata": {},
   "outputs": [],
   "source": [
    "data.loc[:, 'customer_seniority_months'] = data['customer_seniority_months'].astype(int)"
   ]
  },
  {
   "cell_type": "code",
   "execution_count": 275,
   "id": "75e9ff03-18a3-48b8-94a5-f446ccaa91ff",
   "metadata": {},
   "outputs": [
    {
     "name": "stderr",
     "output_type": "stream",
     "text": [
      "/var/folders/17/w4njhprj1gs4_s6cgfv7tn900000gn/T/ipykernel_12655/2303666208.py:1: SettingWithCopyWarning: \n",
      "A value is trying to be set on a copy of a slice from a DataFrame.\n",
      "Try using .loc[row_indexer,col_indexer] = value instead\n",
      "\n",
      "See the caveats in the documentation: https://pandas.pydata.org/pandas-docs/stable/user_guide/indexing.html#returning-a-view-versus-a-copy\n",
      "  data['customer_seniority_months'] = pd.to_numeric(data['customer_seniority_months'])\n"
     ]
    }
   ],
   "source": [
    "data['customer_seniority_months'] = pd.to_numeric(data['customer_seniority_months'])"
   ]
  },
  {
   "cell_type": "code",
   "execution_count": null,
   "id": "4c157c67-3057-46cf-91d0-5e14b6b82488",
   "metadata": {},
   "outputs": [],
   "source": [
    "#Let's remove the oulier -999999"
   ]
  },
  {
   "cell_type": "code",
   "execution_count": 281,
   "id": "ad55fa7f-196d-43d1-9f73-9466c42ad786",
   "metadata": {},
   "outputs": [],
   "source": [
    "# Drop rows where 'employee_status' is 'S' using boolean indexing\n",
    "data = data.drop(data[data['customer_seniority_months'] == -999999].index)"
   ]
  },
  {
   "cell_type": "code",
   "execution_count": 287,
   "id": "b04068cd-56d7-4456-a1e9-829bbd72d1e1",
   "metadata": {},
   "outputs": [
    {
     "data": {
      "text/plain": [
       "array([ 1., 99.])"
      ]
     },
     "execution_count": 287,
     "metadata": {},
     "output_type": "execute_result"
    }
   ],
   "source": [
    "data['primary_customer_status'].unique()"
   ]
  },
  {
   "cell_type": "code",
   "execution_count": 289,
   "id": "0c5fef6d-ee4b-42d8-8e1b-d1cfe4e19be3",
   "metadata": {},
   "outputs": [
    {
     "data": {
      "text/plain": [
       "array([1., 3.])"
      ]
     },
     "execution_count": 289,
     "metadata": {},
     "output_type": "execute_result"
    }
   ],
   "source": [
    "data['start_of_month_customer_type'].unique()"
   ]
  },
  {
   "cell_type": "code",
   "execution_count": 297,
   "id": "504472bb-e007-4355-b3d3-0577381dc011",
   "metadata": {},
   "outputs": [
    {
     "data": {
      "text/plain": [
       "array(['A', 'I', 'P'], dtype=object)"
      ]
     },
     "execution_count": 297,
     "metadata": {},
     "output_type": "execute_result"
    }
   ],
   "source": [
    "data['start_of_month_customer_relation'].unique()"
   ]
  },
  {
   "cell_type": "code",
   "execution_count": 303,
   "id": "7a5ad3f9-9281-48a9-9e78-bfedb7d93b1b",
   "metadata": {},
   "outputs": [
    {
     "name": "stdout",
     "output_type": "stream",
     "text": [
      "<class 'pandas.core.frame.DataFrame'>\n",
      "Index: 819584 entries, 0 to 999999\n",
      "Data columns (total 45 columns):\n",
      " #   Column                            Non-Null Count   Dtype         \n",
      "---  ------                            --------------   -----         \n",
      " 0   data_partition_date               819584 non-null  datetime64[ns]\n",
      " 1   customer_id                       819584 non-null  int64         \n",
      " 2   employee_status                   819584 non-null  object        \n",
      " 3   residence_country                 819584 non-null  object        \n",
      " 4   gender                            819584 non-null  object        \n",
      " 5   customer_age                      819584 non-null  int64         \n",
      " 6   contract_start_date               819584 non-null  object        \n",
      " 7   new_customer_index                819584 non-null  int64         \n",
      " 8   customer_seniority_months         819584 non-null  int64         \n",
      " 9   primary_customer_status           819584 non-null  float64       \n",
      " 10  start_of_month_customer_type      819584 non-null  float64       \n",
      " 11  start_of_month_customer_relation  819584 non-null  object        \n",
      " 12  residence_index                   819584 non-null  object        \n",
      " 13  foreigner_index                   819584 non-null  object        \n",
      " 14  customer_joining_channel          819584 non-null  object        \n",
      " 15  deceased_index                    819584 non-null  object        \n",
      " 16  address_type                      819584 non-null  float64       \n",
      " 17  province_code                     819584 non-null  float64       \n",
      " 18  province_name                     819584 non-null  object        \n",
      " 19  customer_activity_index           819584 non-null  float64       \n",
      " 20  household_income                  819584 non-null  float64       \n",
      " 21  saving_account_status             819584 non-null  int64         \n",
      " 22  guarantees_status                 819584 non-null  int64         \n",
      " 23  current_account_status            819584 non-null  int64         \n",
      " 24  derivada_account_status           819584 non-null  int64         \n",
      " 25  payroll_account_status            819584 non-null  int64         \n",
      " 26  junior_account_status             819584 non-null  int64         \n",
      " 27  mas_particular_account_status     819584 non-null  int64         \n",
      " 28  particular_account_status         819584 non-null  int64         \n",
      " 29  particular_plus_account_status    819584 non-null  int64         \n",
      " 30  short_term_deposit_status         819584 non-null  int64         \n",
      " 31  medium_term_deposit_status        819584 non-null  int64         \n",
      " 32  long_term_deposit_status          819584 non-null  int64         \n",
      " 33  e_account_status                  819584 non-null  int64         \n",
      " 34  funds_status                      819584 non-null  int64         \n",
      " 35  mortgage_status                   819584 non-null  int64         \n",
      " 36  pensions_status                   819584 non-null  int64         \n",
      " 37  loans_status                      819584 non-null  int64         \n",
      " 38  taxes_status                      819584 non-null  int64         \n",
      " 39  credit_card_status                819584 non-null  int64         \n",
      " 40  securities_status                 819584 non-null  int64         \n",
      " 41  home_account_status               819584 non-null  int64         \n",
      " 42  payroll_status                    819584 non-null  float64       \n",
      " 43  pensions_status_last_month        819584 non-null  float64       \n",
      " 44  direct_debit_status               819584 non-null  int64         \n",
      "dtypes: datetime64[ns](1), float64(8), int64(26), object(10)\n",
      "memory usage: 287.6+ MB\n"
     ]
    }
   ],
   "source": [
    "data.info()"
   ]
  },
  {
   "cell_type": "code",
   "execution_count": 301,
   "id": "e20c81e1-afcb-4d9e-a973-7b3d7ac8d4a0",
   "metadata": {},
   "outputs": [
    {
     "data": {
      "text/plain": [
       "array(['S', 'N'], dtype=object)"
      ]
     },
     "execution_count": 301,
     "metadata": {},
     "output_type": "execute_result"
    }
   ],
   "source": [
    "data['residence_index'].unique()"
   ]
  },
  {
   "cell_type": "code",
   "execution_count": 305,
   "id": "ae56163f-5147-4f8d-9ba3-afdc48bc26a9",
   "metadata": {},
   "outputs": [
    {
     "data": {
      "text/plain": [
       "array(['N', 'S'], dtype=object)"
      ]
     },
     "execution_count": 305,
     "metadata": {},
     "output_type": "execute_result"
    }
   ],
   "source": [
    "data['foreigner_index'].unique()"
   ]
  },
  {
   "cell_type": "code",
   "execution_count": 307,
   "id": "a0ee3b10-7bf0-4208-8da7-ee6972464c8b",
   "metadata": {},
   "outputs": [
    {
     "data": {
      "text/plain": [
       "array(['KHL', 'KHE', 'KHD', 'KFA', 'KFC', 'KAT', 'RED', 'KAZ', 'KHC',\n",
       "       'KHK', 'KHM', 'KHO', 'KDH', 'KEH', 'KAD', 'KBG', 'KGC', 'KHF',\n",
       "       'KFK', 'KHA', 'KGX', 'KFD', 'KAG', 'KFG', 'KAB', 'KCC', 'KAE',\n",
       "       'KAH', 'KAR', 'KFJ', 'KFU', 'KAQ', 'KHN', 'KFS', 'KAA', 'KFP',\n",
       "       'KAJ', 'KFN', 'KGV', 'KGY', 'KAP', 'KFF', 'KFL', 'KAI', 'KDE',\n",
       "       'KFV', '013', 'K00', 'KAK', 'KCK', 'KCL', 'KAY', 'KBU', 'KDR',\n",
       "       'KDT', 'KCG', 'KDO', 'KBQ', 'KDA', 'KBO', 'KEC', 'KES', 'KBZ',\n",
       "       'KAS', '007', 'KEU', 'KCA', 'KAL', 'KDC', 'KAW', 'KCI', 'KAF',\n",
       "       'KAC', 'KCS', 'KCB', 'KDU', 'KDQ', 'KCN', 'KCM', '004', 'KCH',\n",
       "       'KCD', 'KCE', 'KDY', 'KEA', 'KBL', 'KBH', 'KDV', 'KFT', 'KEY',\n",
       "       'KAO', 'KEJ', 'KEO', 'KEV', 'KEI', 'KEW', 'KDZ', 'KBV', 'KBR',\n",
       "       'KBF', 'KDP', 'KCO', 'KCF', 'KCV', 'KAM', 'KBD', 'KAN', 'KBY',\n",
       "       'KDX', 'KDD', 'KBW', 'KBX', 'KCU', 'KDB', 'KBS', 'KBE', 'KCX',\n",
       "       'KBP', 'KEB', 'KDS', 'KEL', 'KDG', 'KDF', 'KEF', 'KCP', 'KDM',\n",
       "       'KBB', 'KEZ', 'KBJ', 'KFI', 'KBM', 'KDW', 'KEG', 'KEN', 'KEQ',\n",
       "       'KAV', 'KFH', 'KAU', 'KED', 'KEK', 'KGW', 'KFM', 'KFE', 'KGU',\n",
       "       'KDI', 'KFB', 'KDN', 'KCR', 'KCQ', 'KEM', 'KEE', 'KCJ'],\n",
       "      dtype=object)"
      ]
     },
     "execution_count": 307,
     "metadata": {},
     "output_type": "execute_result"
    }
   ],
   "source": [
    "data['customer_joining_channel'].unique()"
   ]
  },
  {
   "cell_type": "code",
   "execution_count": 309,
   "id": "b900ff87-8076-4b73-9af0-6b5e9b04ba92",
   "metadata": {},
   "outputs": [],
   "source": [
    "#We can see some irregular entries, but that won't matter.."
   ]
  },
  {
   "cell_type": "code",
   "execution_count": 311,
   "id": "db8aa0ce-c6ff-44dc-a093-45d52c1e268d",
   "metadata": {},
   "outputs": [
    {
     "data": {
      "text/plain": [
       "array(['N', 'S'], dtype=object)"
      ]
     },
     "execution_count": 311,
     "metadata": {},
     "output_type": "execute_result"
    }
   ],
   "source": [
    "data['deceased_index'].unique()"
   ]
  },
  {
   "cell_type": "code",
   "execution_count": 313,
   "id": "0076295b-883c-48ba-a63a-7d4e8b59cd41",
   "metadata": {},
   "outputs": [
    {
     "data": {
      "text/plain": [
       "array([1.])"
      ]
     },
     "execution_count": 313,
     "metadata": {},
     "output_type": "execute_result"
    }
   ],
   "source": [
    "data['address_type'].unique()"
   ]
  },
  {
   "cell_type": "code",
   "execution_count": 319,
   "id": "6d6a2fd1-5647-4f1c-ac62-d44e02cbd6de",
   "metadata": {},
   "outputs": [],
   "source": [
    "#If the column has only one unique value it cannot contribute towards segmentation with unique data-points"
   ]
  },
  {
   "cell_type": "code",
   "execution_count": 321,
   "id": "08ccf501-b8e6-4b91-bc2c-b1183a4d72d6",
   "metadata": {},
   "outputs": [],
   "source": [
    "data.drop(columns='address_type', inplace=True)"
   ]
  },
  {
   "cell_type": "code",
   "execution_count": 325,
   "id": "0862c81e-207a-4958-8667-cb1968092594",
   "metadata": {},
   "outputs": [
    {
     "data": {
      "text/plain": [
       "array([29., 13., 50., 45., 24., 10., 49., 37., 22.,  5., 40., 27.,  8.,\n",
       "       28.,  3., 42., 41., 39.,  7., 47., 36., 46., 44., 15., 32., 23.,\n",
       "       17., 26.,  2.,  9., 30., 11.,  6., 16.,  4., 19., 34., 12., 35.,\n",
       "       14., 25., 21., 18., 33., 38., 52., 43., 51., 31., 20., 48.])"
      ]
     },
     "execution_count": 325,
     "metadata": {},
     "output_type": "execute_result"
    }
   ],
   "source": [
    "data['province_code'].unique()"
   ]
  },
  {
   "cell_type": "code",
   "execution_count": 327,
   "id": "e21f0724-5078-4224-ab58-2858bc125038",
   "metadata": {},
   "outputs": [
    {
     "data": {
      "text/plain": [
       "array(['MALAGA', 'CIUDAD REAL', 'ZARAGOZA', 'TOLEDO', 'LEON', 'CACERES',\n",
       "       'ZAMORA', 'SALAMANCA', 'HUESCA', 'AVILA', 'SEGOVIA', 'LUGO',\n",
       "       'BARCELONA', 'MADRID', 'ALICANTE', 'SORIA', 'SEVILLA', 'CANTABRIA',\n",
       "       'BALEARS, ILLES', 'VALLADOLID', 'PONTEVEDRA', 'VALENCIA', 'TERUEL',\n",
       "       'CORUÑA, A', 'OURENSE', 'JAEN', 'GIRONA', 'RIOJA, LA', 'ALBACETE',\n",
       "       'BURGOS', 'MURCIA', 'CADIZ', 'BADAJOZ', 'CUENCA', 'ALMERIA',\n",
       "       'GUADALAJARA', 'PALENCIA', 'CASTELLON', 'PALMAS, LAS', 'CORDOBA',\n",
       "       'LERIDA', 'HUELVA', 'GRANADA', 'ASTURIAS',\n",
       "       'SANTA CRUZ DE TENERIFE', 'MELILLA', 'TARRAGONA', 'CEUTA',\n",
       "       'NAVARRA', 'GIPUZKOA', 'BIZKAIA'], dtype=object)"
      ]
     },
     "execution_count": 327,
     "metadata": {},
     "output_type": "execute_result"
    }
   ],
   "source": [
    "data['province_name'].unique()"
   ]
  },
  {
   "cell_type": "code",
   "execution_count": 329,
   "id": "7de67d55-8b28-40e2-acf8-0137a3b54da1",
   "metadata": {},
   "outputs": [
    {
     "data": {
      "text/plain": [
       "array([1., 0.])"
      ]
     },
     "execution_count": 329,
     "metadata": {},
     "output_type": "execute_result"
    }
   ],
   "source": [
    "data['customer_activity_index'].unique()"
   ]
  },
  {
   "cell_type": "code",
   "execution_count": 335,
   "id": "4055b764-7e95-4103-879f-9f9ac49cdcd3",
   "metadata": {},
   "outputs": [
    {
     "data": {
      "text/html": [
       "<div>\n",
       "<style scoped>\n",
       "    .dataframe tbody tr th:only-of-type {\n",
       "        vertical-align: middle;\n",
       "    }\n",
       "\n",
       "    .dataframe tbody tr th {\n",
       "        vertical-align: top;\n",
       "    }\n",
       "\n",
       "    .dataframe thead th {\n",
       "        text-align: right;\n",
       "    }\n",
       "</style>\n",
       "<table border=\"1\" class=\"dataframe\">\n",
       "  <thead>\n",
       "    <tr style=\"text-align: right;\">\n",
       "      <th></th>\n",
       "      <th>data_partition_date</th>\n",
       "      <th>customer_id</th>\n",
       "      <th>employee_status</th>\n",
       "      <th>residence_country</th>\n",
       "      <th>gender</th>\n",
       "      <th>customer_age</th>\n",
       "      <th>contract_start_date</th>\n",
       "      <th>new_customer_index</th>\n",
       "      <th>customer_seniority_months</th>\n",
       "      <th>primary_customer_status</th>\n",
       "      <th>...</th>\n",
       "      <th>mortgage_status</th>\n",
       "      <th>pensions_status</th>\n",
       "      <th>loans_status</th>\n",
       "      <th>taxes_status</th>\n",
       "      <th>credit_card_status</th>\n",
       "      <th>securities_status</th>\n",
       "      <th>home_account_status</th>\n",
       "      <th>payroll_status</th>\n",
       "      <th>pensions_status_last_month</th>\n",
       "      <th>direct_debit_status</th>\n",
       "    </tr>\n",
       "  </thead>\n",
       "  <tbody>\n",
       "  </tbody>\n",
       "</table>\n",
       "<p>0 rows × 44 columns</p>\n",
       "</div>"
      ],
      "text/plain": [
       "Empty DataFrame\n",
       "Columns: [data_partition_date, customer_id, employee_status, residence_country, gender, customer_age, contract_start_date, new_customer_index, customer_seniority_months, primary_customer_status, start_of_month_customer_type, start_of_month_customer_relation, residence_index, foreigner_index, customer_joining_channel, deceased_index, province_code, province_name, customer_activity_index, household_income, saving_account_status, guarantees_status, current_account_status, derivada_account_status, payroll_account_status, junior_account_status, mas_particular_account_status, particular_account_status, particular_plus_account_status, short_term_deposit_status, medium_term_deposit_status, long_term_deposit_status, e_account_status, funds_status, mortgage_status, pensions_status, loans_status, taxes_status, credit_card_status, securities_status, home_account_status, payroll_status, pensions_status_last_month, direct_debit_status]\n",
       "Index: []\n",
       "\n",
       "[0 rows x 44 columns]"
      ]
     },
     "execution_count": 335,
     "metadata": {},
     "output_type": "execute_result"
    }
   ],
   "source": [
    "data[data['household_income'] < 0]"
   ]
  },
  {
   "cell_type": "code",
   "execution_count": 339,
   "id": "aa1d8e2a-ae43-4bd1-b11f-baa4d50cd598",
   "metadata": {},
   "outputs": [],
   "source": [
    "#well we don't have any negative values.. for income"
   ]
  },
  {
   "cell_type": "code",
   "execution_count": 343,
   "id": "ea8a1d8e-00d4-4d08-9c58-2002cb291091",
   "metadata": {},
   "outputs": [
    {
     "data": {
      "text/plain": [
       "array([0, 1])"
      ]
     },
     "execution_count": 343,
     "metadata": {},
     "output_type": "execute_result"
    }
   ],
   "source": [
    "data['saving_account_status'].unique()"
   ]
  },
  {
   "cell_type": "code",
   "execution_count": 345,
   "id": "b0957418-57f3-4790-941c-e81927c1506c",
   "metadata": {},
   "outputs": [
    {
     "data": {
      "text/plain": [
       "array([0, 1])"
      ]
     },
     "execution_count": 345,
     "metadata": {},
     "output_type": "execute_result"
    }
   ],
   "source": [
    "data['guarantees_status'].unique()"
   ]
  },
  {
   "cell_type": "code",
   "execution_count": 347,
   "id": "c6955535-f130-4e4d-b1dd-388781cea642",
   "metadata": {},
   "outputs": [
    {
     "data": {
      "text/plain": [
       "array([1, 0])"
      ]
     },
     "execution_count": 347,
     "metadata": {},
     "output_type": "execute_result"
    }
   ],
   "source": [
    "data['current_account_status'].unique()"
   ]
  },
  {
   "cell_type": "code",
   "execution_count": 349,
   "id": "04e73c46-8639-4019-81b7-523340a43a84",
   "metadata": {},
   "outputs": [
    {
     "data": {
      "text/plain": [
       "array([0, 1])"
      ]
     },
     "execution_count": 349,
     "metadata": {},
     "output_type": "execute_result"
    }
   ],
   "source": [
    "data['derivada_account_status'].unique()"
   ]
  },
  {
   "cell_type": "code",
   "execution_count": 351,
   "id": "ad08b58a-35e1-4e54-bdcc-b6d280891763",
   "metadata": {},
   "outputs": [
    {
     "data": {
      "text/plain": [
       "array([0, 1])"
      ]
     },
     "execution_count": 351,
     "metadata": {},
     "output_type": "execute_result"
    }
   ],
   "source": [
    "data['payroll_account_status'].unique()"
   ]
  },
  {
   "cell_type": "code",
   "execution_count": 353,
   "id": "b9ef82e9-4018-45c8-b181-90bed361d5ff",
   "metadata": {},
   "outputs": [
    {
     "data": {
      "text/plain": [
       "array([0, 1])"
      ]
     },
     "execution_count": 353,
     "metadata": {},
     "output_type": "execute_result"
    }
   ],
   "source": [
    "data['junior_account_status'].unique()"
   ]
  },
  {
   "cell_type": "code",
   "execution_count": 355,
   "id": "6588f6ca-3eda-4da9-9b7c-94fc961fb9e0",
   "metadata": {},
   "outputs": [
    {
     "data": {
      "text/plain": [
       "array([0, 1])"
      ]
     },
     "execution_count": 355,
     "metadata": {},
     "output_type": "execute_result"
    }
   ],
   "source": [
    "data['mas_particular_account_status'].unique()"
   ]
  },
  {
   "cell_type": "code",
   "execution_count": 357,
   "id": "b49914e8-db3e-46d6-816e-e139f65d310f",
   "metadata": {},
   "outputs": [
    {
     "data": {
      "text/plain": [
       "array([0, 1])"
      ]
     },
     "execution_count": 357,
     "metadata": {},
     "output_type": "execute_result"
    }
   ],
   "source": [
    "data['particular_account_status'].unique()"
   ]
  },
  {
   "cell_type": "code",
   "execution_count": 359,
   "id": "c1ad5cea-be2c-424f-a896-b02829f6dd0b",
   "metadata": {},
   "outputs": [
    {
     "data": {
      "text/plain": [
       "array([0, 1])"
      ]
     },
     "execution_count": 359,
     "metadata": {},
     "output_type": "execute_result"
    }
   ],
   "source": [
    "data['particular_plus_account_status'].unique()"
   ]
  },
  {
   "cell_type": "code",
   "execution_count": 361,
   "id": "95352fc1-247a-4ec1-9493-d792cb4cf8fb",
   "metadata": {},
   "outputs": [
    {
     "data": {
      "text/plain": [
       "array([0, 1])"
      ]
     },
     "execution_count": 361,
     "metadata": {},
     "output_type": "execute_result"
    }
   ],
   "source": [
    "data['short_term_deposit_status'].unique()"
   ]
  },
  {
   "cell_type": "code",
   "execution_count": 363,
   "id": "1f2eddd5-9e3b-4784-b6c2-ae35be29be70",
   "metadata": {},
   "outputs": [
    {
     "data": {
      "text/plain": [
       "array([0, 1])"
      ]
     },
     "execution_count": 363,
     "metadata": {},
     "output_type": "execute_result"
    }
   ],
   "source": [
    "data['medium_term_deposit_status'].unique()"
   ]
  },
  {
   "cell_type": "code",
   "execution_count": 365,
   "id": "6c7e7554-b13b-472c-b48c-2a7c13c2c868",
   "metadata": {},
   "outputs": [
    {
     "data": {
      "text/plain": [
       "array([0, 1])"
      ]
     },
     "execution_count": 365,
     "metadata": {},
     "output_type": "execute_result"
    }
   ],
   "source": [
    "data['long_term_deposit_status'].unique()"
   ]
  },
  {
   "cell_type": "code",
   "execution_count": 367,
   "id": "d954302a-a591-4032-8396-66e67428fff6",
   "metadata": {},
   "outputs": [
    {
     "data": {
      "text/plain": [
       "array([0, 1])"
      ]
     },
     "execution_count": 367,
     "metadata": {},
     "output_type": "execute_result"
    }
   ],
   "source": [
    "data['e_account_status'].unique()"
   ]
  },
  {
   "cell_type": "code",
   "execution_count": 369,
   "id": "240beb51-3926-420c-9f2b-f13e639dedbe",
   "metadata": {},
   "outputs": [
    {
     "data": {
      "text/plain": [
       "array([0, 1])"
      ]
     },
     "execution_count": 369,
     "metadata": {},
     "output_type": "execute_result"
    }
   ],
   "source": [
    "data['funds_status'].unique()"
   ]
  },
  {
   "cell_type": "code",
   "execution_count": 371,
   "id": "cde4d998-5611-41ad-993f-82d03c22a485",
   "metadata": {},
   "outputs": [
    {
     "data": {
      "text/plain": [
       "array([0, 1])"
      ]
     },
     "execution_count": 371,
     "metadata": {},
     "output_type": "execute_result"
    }
   ],
   "source": [
    "data['mortgage_status'].unique()"
   ]
  },
  {
   "cell_type": "code",
   "execution_count": 373,
   "id": "e44ba9a6-9b1f-4969-98a3-5f43e2f115e8",
   "metadata": {},
   "outputs": [
    {
     "data": {
      "text/plain": [
       "array([0, 1])"
      ]
     },
     "execution_count": 373,
     "metadata": {},
     "output_type": "execute_result"
    }
   ],
   "source": [
    "data['pensions_status'].unique()"
   ]
  },
  {
   "cell_type": "code",
   "execution_count": 375,
   "id": "9dd1374e-2e72-44ca-bdbd-8012a3bb55ba",
   "metadata": {},
   "outputs": [
    {
     "data": {
      "text/plain": [
       "array([0, 1])"
      ]
     },
     "execution_count": 375,
     "metadata": {},
     "output_type": "execute_result"
    }
   ],
   "source": [
    "data['loans_status'].unique()"
   ]
  },
  {
   "cell_type": "code",
   "execution_count": 377,
   "id": "0b790681-03c2-42b7-bfad-3af7c67017cd",
   "metadata": {},
   "outputs": [
    {
     "data": {
      "text/plain": [
       "array([0, 1])"
      ]
     },
     "execution_count": 377,
     "metadata": {},
     "output_type": "execute_result"
    }
   ],
   "source": [
    "data['taxes_status'].unique()"
   ]
  },
  {
   "cell_type": "code",
   "execution_count": 379,
   "id": "824ad270-07ba-4b66-8836-b44ec5a911b0",
   "metadata": {},
   "outputs": [
    {
     "data": {
      "text/plain": [
       "array([0, 1])"
      ]
     },
     "execution_count": 379,
     "metadata": {},
     "output_type": "execute_result"
    }
   ],
   "source": [
    "data['credit_card_status'].unique()"
   ]
  },
  {
   "cell_type": "code",
   "execution_count": 381,
   "id": "d6beb93c-c934-4647-a9fc-20df28d98e84",
   "metadata": {},
   "outputs": [
    {
     "data": {
      "text/plain": [
       "array([0, 1])"
      ]
     },
     "execution_count": 381,
     "metadata": {},
     "output_type": "execute_result"
    }
   ],
   "source": [
    "data['securities_status'].unique()"
   ]
  },
  {
   "cell_type": "code",
   "execution_count": 383,
   "id": "65ae1cb0-120f-4d5f-951f-388787ec8c03",
   "metadata": {},
   "outputs": [
    {
     "data": {
      "text/plain": [
       "array([0, 1])"
      ]
     },
     "execution_count": 383,
     "metadata": {},
     "output_type": "execute_result"
    }
   ],
   "source": [
    "data['home_account_status'].unique()"
   ]
  },
  {
   "cell_type": "code",
   "execution_count": 385,
   "id": "58f7a7b0-b25e-4593-b505-aa134fb24844",
   "metadata": {},
   "outputs": [
    {
     "data": {
      "text/plain": [
       "array([0., 1.])"
      ]
     },
     "execution_count": 385,
     "metadata": {},
     "output_type": "execute_result"
    }
   ],
   "source": [
    "data['payroll_status'].unique()"
   ]
  },
  {
   "cell_type": "code",
   "execution_count": 387,
   "id": "b13493f9-ff66-4841-a2ca-386089609909",
   "metadata": {},
   "outputs": [
    {
     "data": {
      "text/plain": [
       "array([0., 1.])"
      ]
     },
     "execution_count": 387,
     "metadata": {},
     "output_type": "execute_result"
    }
   ],
   "source": [
    "data['pensions_status_last_month'].unique()"
   ]
  },
  {
   "cell_type": "code",
   "execution_count": 389,
   "id": "fc6decdf-b7b2-4383-a744-4a9bbcdd0120",
   "metadata": {},
   "outputs": [
    {
     "data": {
      "text/plain": [
       "array([0, 1])"
      ]
     },
     "execution_count": 389,
     "metadata": {},
     "output_type": "execute_result"
    }
   ],
   "source": [
    "data['direct_debit_status'].unique()"
   ]
  },
  {
   "cell_type": "code",
   "execution_count": 391,
   "id": "1bc36344-93e1-4b55-8d0c-65fafdc266a4",
   "metadata": {},
   "outputs": [],
   "source": [
    "#So far we have checked every column along with its unique values, checked for outliers and mislabeled entires and corrected.."
   ]
  },
  {
   "cell_type": "code",
   "execution_count": 393,
   "id": "278dffa9-f3b3-4d7c-91f6-c1da78368b7f",
   "metadata": {},
   "outputs": [],
   "source": [
    "#Also handled the datatypes of columns"
   ]
  },
  {
   "cell_type": "code",
   "execution_count": 395,
   "id": "63e3a27e-97b6-49a5-9de0-487bf8ef99dc",
   "metadata": {},
   "outputs": [
    {
     "data": {
      "text/html": [
       "<div>\n",
       "<style scoped>\n",
       "    .dataframe tbody tr th:only-of-type {\n",
       "        vertical-align: middle;\n",
       "    }\n",
       "\n",
       "    .dataframe tbody tr th {\n",
       "        vertical-align: top;\n",
       "    }\n",
       "\n",
       "    .dataframe thead th {\n",
       "        text-align: right;\n",
       "    }\n",
       "</style>\n",
       "<table border=\"1\" class=\"dataframe\">\n",
       "  <thead>\n",
       "    <tr style=\"text-align: right;\">\n",
       "      <th></th>\n",
       "      <th>data_partition_date</th>\n",
       "      <th>customer_id</th>\n",
       "      <th>employee_status</th>\n",
       "      <th>residence_country</th>\n",
       "      <th>gender</th>\n",
       "      <th>customer_age</th>\n",
       "      <th>contract_start_date</th>\n",
       "      <th>new_customer_index</th>\n",
       "      <th>customer_seniority_months</th>\n",
       "      <th>primary_customer_status</th>\n",
       "      <th>...</th>\n",
       "      <th>mortgage_status</th>\n",
       "      <th>pensions_status</th>\n",
       "      <th>loans_status</th>\n",
       "      <th>taxes_status</th>\n",
       "      <th>credit_card_status</th>\n",
       "      <th>securities_status</th>\n",
       "      <th>home_account_status</th>\n",
       "      <th>payroll_status</th>\n",
       "      <th>pensions_status_last_month</th>\n",
       "      <th>direct_debit_status</th>\n",
       "    </tr>\n",
       "  </thead>\n",
       "  <tbody>\n",
       "    <tr>\n",
       "      <th>0</th>\n",
       "      <td>2015-01-28</td>\n",
       "      <td>1375586</td>\n",
       "      <td>N</td>\n",
       "      <td>ES</td>\n",
       "      <td>H</td>\n",
       "      <td>35</td>\n",
       "      <td>2015-01-12</td>\n",
       "      <td>0</td>\n",
       "      <td>6</td>\n",
       "      <td>1.0</td>\n",
       "      <td>...</td>\n",
       "      <td>0</td>\n",
       "      <td>0</td>\n",
       "      <td>0</td>\n",
       "      <td>0</td>\n",
       "      <td>0</td>\n",
       "      <td>0</td>\n",
       "      <td>0</td>\n",
       "      <td>0.0</td>\n",
       "      <td>0.0</td>\n",
       "      <td>0</td>\n",
       "    </tr>\n",
       "    <tr>\n",
       "      <th>1</th>\n",
       "      <td>2015-01-28</td>\n",
       "      <td>1050611</td>\n",
       "      <td>N</td>\n",
       "      <td>ES</td>\n",
       "      <td>V</td>\n",
       "      <td>23</td>\n",
       "      <td>2012-08-10</td>\n",
       "      <td>0</td>\n",
       "      <td>35</td>\n",
       "      <td>1.0</td>\n",
       "      <td>...</td>\n",
       "      <td>0</td>\n",
       "      <td>0</td>\n",
       "      <td>0</td>\n",
       "      <td>0</td>\n",
       "      <td>0</td>\n",
       "      <td>0</td>\n",
       "      <td>0</td>\n",
       "      <td>0.0</td>\n",
       "      <td>0.0</td>\n",
       "      <td>0</td>\n",
       "    </tr>\n",
       "    <tr>\n",
       "      <th>2</th>\n",
       "      <td>2015-01-28</td>\n",
       "      <td>1050612</td>\n",
       "      <td>N</td>\n",
       "      <td>ES</td>\n",
       "      <td>V</td>\n",
       "      <td>23</td>\n",
       "      <td>2012-08-10</td>\n",
       "      <td>0</td>\n",
       "      <td>35</td>\n",
       "      <td>1.0</td>\n",
       "      <td>...</td>\n",
       "      <td>0</td>\n",
       "      <td>0</td>\n",
       "      <td>0</td>\n",
       "      <td>0</td>\n",
       "      <td>0</td>\n",
       "      <td>0</td>\n",
       "      <td>0</td>\n",
       "      <td>0.0</td>\n",
       "      <td>0.0</td>\n",
       "      <td>0</td>\n",
       "    </tr>\n",
       "    <tr>\n",
       "      <th>3</th>\n",
       "      <td>2015-01-28</td>\n",
       "      <td>1050613</td>\n",
       "      <td>N</td>\n",
       "      <td>ES</td>\n",
       "      <td>H</td>\n",
       "      <td>22</td>\n",
       "      <td>2012-08-10</td>\n",
       "      <td>0</td>\n",
       "      <td>35</td>\n",
       "      <td>1.0</td>\n",
       "      <td>...</td>\n",
       "      <td>0</td>\n",
       "      <td>0</td>\n",
       "      <td>0</td>\n",
       "      <td>0</td>\n",
       "      <td>0</td>\n",
       "      <td>0</td>\n",
       "      <td>0</td>\n",
       "      <td>0.0</td>\n",
       "      <td>0.0</td>\n",
       "      <td>0</td>\n",
       "    </tr>\n",
       "    <tr>\n",
       "      <th>5</th>\n",
       "      <td>2015-01-28</td>\n",
       "      <td>1050615</td>\n",
       "      <td>N</td>\n",
       "      <td>ES</td>\n",
       "      <td>H</td>\n",
       "      <td>23</td>\n",
       "      <td>2012-08-10</td>\n",
       "      <td>0</td>\n",
       "      <td>35</td>\n",
       "      <td>1.0</td>\n",
       "      <td>...</td>\n",
       "      <td>0</td>\n",
       "      <td>0</td>\n",
       "      <td>0</td>\n",
       "      <td>0</td>\n",
       "      <td>0</td>\n",
       "      <td>0</td>\n",
       "      <td>0</td>\n",
       "      <td>0.0</td>\n",
       "      <td>0.0</td>\n",
       "      <td>0</td>\n",
       "    </tr>\n",
       "    <tr>\n",
       "      <th>...</th>\n",
       "      <td>...</td>\n",
       "      <td>...</td>\n",
       "      <td>...</td>\n",
       "      <td>...</td>\n",
       "      <td>...</td>\n",
       "      <td>...</td>\n",
       "      <td>...</td>\n",
       "      <td>...</td>\n",
       "      <td>...</td>\n",
       "      <td>...</td>\n",
       "      <td>...</td>\n",
       "      <td>...</td>\n",
       "      <td>...</td>\n",
       "      <td>...</td>\n",
       "      <td>...</td>\n",
       "      <td>...</td>\n",
       "      <td>...</td>\n",
       "      <td>...</td>\n",
       "      <td>...</td>\n",
       "      <td>...</td>\n",
       "      <td>...</td>\n",
       "    </tr>\n",
       "    <tr>\n",
       "      <th>999995</th>\n",
       "      <td>2015-02-28</td>\n",
       "      <td>1183296</td>\n",
       "      <td>N</td>\n",
       "      <td>ES</td>\n",
       "      <td>H</td>\n",
       "      <td>27</td>\n",
       "      <td>2013-09-25</td>\n",
       "      <td>0</td>\n",
       "      <td>22</td>\n",
       "      <td>1.0</td>\n",
       "      <td>...</td>\n",
       "      <td>0</td>\n",
       "      <td>0</td>\n",
       "      <td>0</td>\n",
       "      <td>0</td>\n",
       "      <td>0</td>\n",
       "      <td>0</td>\n",
       "      <td>0</td>\n",
       "      <td>0.0</td>\n",
       "      <td>0.0</td>\n",
       "      <td>1</td>\n",
       "    </tr>\n",
       "    <tr>\n",
       "      <th>999996</th>\n",
       "      <td>2015-02-28</td>\n",
       "      <td>1183295</td>\n",
       "      <td>N</td>\n",
       "      <td>ES</td>\n",
       "      <td>H</td>\n",
       "      <td>56</td>\n",
       "      <td>2013-09-25</td>\n",
       "      <td>0</td>\n",
       "      <td>22</td>\n",
       "      <td>1.0</td>\n",
       "      <td>...</td>\n",
       "      <td>0</td>\n",
       "      <td>0</td>\n",
       "      <td>0</td>\n",
       "      <td>0</td>\n",
       "      <td>0</td>\n",
       "      <td>0</td>\n",
       "      <td>0</td>\n",
       "      <td>0.0</td>\n",
       "      <td>0.0</td>\n",
       "      <td>0</td>\n",
       "    </tr>\n",
       "    <tr>\n",
       "      <th>999997</th>\n",
       "      <td>2015-02-28</td>\n",
       "      <td>1183294</td>\n",
       "      <td>N</td>\n",
       "      <td>ES</td>\n",
       "      <td>V</td>\n",
       "      <td>39</td>\n",
       "      <td>2013-09-25</td>\n",
       "      <td>0</td>\n",
       "      <td>22</td>\n",
       "      <td>1.0</td>\n",
       "      <td>...</td>\n",
       "      <td>0</td>\n",
       "      <td>0</td>\n",
       "      <td>0</td>\n",
       "      <td>0</td>\n",
       "      <td>0</td>\n",
       "      <td>0</td>\n",
       "      <td>0</td>\n",
       "      <td>0.0</td>\n",
       "      <td>0.0</td>\n",
       "      <td>1</td>\n",
       "    </tr>\n",
       "    <tr>\n",
       "      <th>999998</th>\n",
       "      <td>2015-02-28</td>\n",
       "      <td>1183293</td>\n",
       "      <td>N</td>\n",
       "      <td>ES</td>\n",
       "      <td>V</td>\n",
       "      <td>36</td>\n",
       "      <td>2013-09-25</td>\n",
       "      <td>0</td>\n",
       "      <td>22</td>\n",
       "      <td>1.0</td>\n",
       "      <td>...</td>\n",
       "      <td>0</td>\n",
       "      <td>0</td>\n",
       "      <td>0</td>\n",
       "      <td>0</td>\n",
       "      <td>0</td>\n",
       "      <td>0</td>\n",
       "      <td>0</td>\n",
       "      <td>0.0</td>\n",
       "      <td>0.0</td>\n",
       "      <td>1</td>\n",
       "    </tr>\n",
       "    <tr>\n",
       "      <th>999999</th>\n",
       "      <td>2015-02-28</td>\n",
       "      <td>1183289</td>\n",
       "      <td>N</td>\n",
       "      <td>ES</td>\n",
       "      <td>H</td>\n",
       "      <td>38</td>\n",
       "      <td>2013-09-25</td>\n",
       "      <td>0</td>\n",
       "      <td>22</td>\n",
       "      <td>1.0</td>\n",
       "      <td>...</td>\n",
       "      <td>0</td>\n",
       "      <td>0</td>\n",
       "      <td>0</td>\n",
       "      <td>0</td>\n",
       "      <td>0</td>\n",
       "      <td>0</td>\n",
       "      <td>0</td>\n",
       "      <td>0.0</td>\n",
       "      <td>0.0</td>\n",
       "      <td>1</td>\n",
       "    </tr>\n",
       "  </tbody>\n",
       "</table>\n",
       "<p>819584 rows × 44 columns</p>\n",
       "</div>"
      ],
      "text/plain": [
       "       data_partition_date  customer_id employee_status residence_country  \\\n",
       "0               2015-01-28      1375586               N                ES   \n",
       "1               2015-01-28      1050611               N                ES   \n",
       "2               2015-01-28      1050612               N                ES   \n",
       "3               2015-01-28      1050613               N                ES   \n",
       "5               2015-01-28      1050615               N                ES   \n",
       "...                    ...          ...             ...               ...   \n",
       "999995          2015-02-28      1183296               N                ES   \n",
       "999996          2015-02-28      1183295               N                ES   \n",
       "999997          2015-02-28      1183294               N                ES   \n",
       "999998          2015-02-28      1183293               N                ES   \n",
       "999999          2015-02-28      1183289               N                ES   \n",
       "\n",
       "       gender  customer_age contract_start_date  new_customer_index  \\\n",
       "0           H            35          2015-01-12                   0   \n",
       "1           V            23          2012-08-10                   0   \n",
       "2           V            23          2012-08-10                   0   \n",
       "3           H            22          2012-08-10                   0   \n",
       "5           H            23          2012-08-10                   0   \n",
       "...       ...           ...                 ...                 ...   \n",
       "999995      H            27          2013-09-25                   0   \n",
       "999996      H            56          2013-09-25                   0   \n",
       "999997      V            39          2013-09-25                   0   \n",
       "999998      V            36          2013-09-25                   0   \n",
       "999999      H            38          2013-09-25                   0   \n",
       "\n",
       "        customer_seniority_months  primary_customer_status  ...  \\\n",
       "0                               6                      1.0  ...   \n",
       "1                              35                      1.0  ...   \n",
       "2                              35                      1.0  ...   \n",
       "3                              35                      1.0  ...   \n",
       "5                              35                      1.0  ...   \n",
       "...                           ...                      ...  ...   \n",
       "999995                         22                      1.0  ...   \n",
       "999996                         22                      1.0  ...   \n",
       "999997                         22                      1.0  ...   \n",
       "999998                         22                      1.0  ...   \n",
       "999999                         22                      1.0  ...   \n",
       "\n",
       "        mortgage_status pensions_status loans_status taxes_status  \\\n",
       "0                     0               0            0            0   \n",
       "1                     0               0            0            0   \n",
       "2                     0               0            0            0   \n",
       "3                     0               0            0            0   \n",
       "5                     0               0            0            0   \n",
       "...                 ...             ...          ...          ...   \n",
       "999995                0               0            0            0   \n",
       "999996                0               0            0            0   \n",
       "999997                0               0            0            0   \n",
       "999998                0               0            0            0   \n",
       "999999                0               0            0            0   \n",
       "\n",
       "       credit_card_status securities_status  home_account_status  \\\n",
       "0                       0                 0                    0   \n",
       "1                       0                 0                    0   \n",
       "2                       0                 0                    0   \n",
       "3                       0                 0                    0   \n",
       "5                       0                 0                    0   \n",
       "...                   ...               ...                  ...   \n",
       "999995                  0                 0                    0   \n",
       "999996                  0                 0                    0   \n",
       "999997                  0                 0                    0   \n",
       "999998                  0                 0                    0   \n",
       "999999                  0                 0                    0   \n",
       "\n",
       "       payroll_status  pensions_status_last_month  direct_debit_status  \n",
       "0                 0.0                         0.0                    0  \n",
       "1                 0.0                         0.0                    0  \n",
       "2                 0.0                         0.0                    0  \n",
       "3                 0.0                         0.0                    0  \n",
       "5                 0.0                         0.0                    0  \n",
       "...               ...                         ...                  ...  \n",
       "999995            0.0                         0.0                    1  \n",
       "999996            0.0                         0.0                    0  \n",
       "999997            0.0                         0.0                    1  \n",
       "999998            0.0                         0.0                    1  \n",
       "999999            0.0                         0.0                    1  \n",
       "\n",
       "[819584 rows x 44 columns]"
      ]
     },
     "execution_count": 395,
     "metadata": {},
     "output_type": "execute_result"
    }
   ],
   "source": [
    "data"
   ]
  },
  {
   "cell_type": "code",
   "execution_count": 403,
   "id": "c037d99e-8aa1-44c9-95da-e1e1565ee992",
   "metadata": {},
   "outputs": [],
   "source": [
    "#Let's save our progress for phase-1"
   ]
  },
  {
   "cell_type": "code",
   "execution_count": 405,
   "id": "fc19e19d-b831-4f3d-bbea-55f9050dcca3",
   "metadata": {},
   "outputs": [],
   "source": [
    "# Save the updated DataFrame to a CSV file\n",
    "data.to_csv('phase-1.csv', index=False)"
   ]
  },
  {
   "cell_type": "code",
   "execution_count": null,
   "id": "19ad6afa-979e-4270-81d7-9b58135335e1",
   "metadata": {},
   "outputs": [],
   "source": []
  }
 ],
 "metadata": {
  "kernelspec": {
   "display_name": "Python 3 (ipykernel)",
   "language": "python",
   "name": "python3"
  },
  "language_info": {
   "codemirror_mode": {
    "name": "ipython",
    "version": 3
   },
   "file_extension": ".py",
   "mimetype": "text/x-python",
   "name": "python",
   "nbconvert_exporter": "python",
   "pygments_lexer": "ipython3",
   "version": "3.12.4"
  }
 },
 "nbformat": 4,
 "nbformat_minor": 5
}
